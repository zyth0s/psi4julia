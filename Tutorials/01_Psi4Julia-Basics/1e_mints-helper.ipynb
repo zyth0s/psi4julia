{
 "cells": [
  {
   "cell_type": "markdown",
   "metadata": {},
   "source": [
    "# MintsHelper: Generating 1- and 2-electron Integrals with <span style='font-variant: small-caps'> Psi4 </span>\n",
    "\n",
    "In all of quantum chemistry, one process which is common to nearly every method is the evaluation of one-\n",
    "and two-electron integrals.  Fortunately, we can leverage infrastructure in <span style='font-variant: small-caps'> \n",
    "Psi4 </span> to perform this task for us.  This tutorial will discuss the [``psi4.core.MintsHelper``](http://psicode.org/psi4manual/master/psi4api.html#psi4.core.MintsHelper \"Go to API\") class, which is an\n",
    "interface for the powerful Psi4 ``libmints`` library which wraps the `libint` library, where these integrals are actually computed.  \n",
    "\n",
    "## MintsHelper Overview\n",
    "In order to compute 1- and 2-electron integrals, we first need a molecule and basis set with which to work.  So, \n",
    "before diving into `MintsHelper`, we need to build these objects.  In the cell below, we have imported\n",
    "<span style='font-variant: small-caps'> Psi4 </span> and NumPy, defined a water molecule, and set the basis to\n",
    "cc-pVDZ.  We've also set the memory available to <span style='font-variant: small-caps'> Psi4</span>, as well as\n",
    "defined a variable `numpy_memory` which we will discuss later."
   ]
  },
  {
   "cell_type": "code",
   "execution_count": 1,
   "metadata": {},
   "outputs": [
    {
     "name": "stdout",
     "output_type": "stream",
     "text": [
      "\n",
      "  Memory set to   1.863 GiB by Python driver.\n"
     ]
    }
   ],
   "source": [
    "# ==> Setup <==\n",
    "# Import statements\n",
    "using PyCall: pyimport\n",
    "psi4 = pyimport(\"psi4\")\n",
    "np   = pyimport(\"numpy\")\n",
    "using Formatting: printfmt\n",
    "\n",
    "# Memory & Output file\n",
    "psi4.set_memory(Int(2e9))\n",
    "numpy_memory = 2\n",
    "psi4.core.set_output_file(\"output.dat\", false)\n",
    "\n",
    "# Molecule definition\n",
    "h2o = psi4.geometry(\"\"\"\n",
    "O\n",
    "H 1 0.96\n",
    "H 1 0.96 2 104.5\n",
    "\"\"\")\n",
    "\n",
    "# Basis Set\n",
    "psi4.set_options(Dict(\"basis\" => \"cc-pvdz\"))"
   ]
  },
  {
   "cell_type": "markdown",
   "metadata": {},
   "source": [
    "Now, we are ready to create an instance of the `MintsHelper` class.  To do this, we need to pass a `BasisSet`\n",
    "object to the `MintsHelper` initializer.  Fortunately, from the previous tutorial on the `Wavefunction` class, we know\n",
    "that we can obtain such an object from an existing wavefunction.  So, let's build a new wavefunction for our molecule,\n",
    "get the basis set object, and build an instance of `MintsHelper`:"
   ]
  },
  {
   "cell_type": "code",
   "execution_count": 2,
   "metadata": {},
   "outputs": [
    {
     "data": {
      "text/plain": [
       "PyObject <psi4.core.MintsHelper object at 0x130ab6e30>"
      ]
     },
     "execution_count": 2,
     "metadata": {},
     "output_type": "execute_result"
    }
   ],
   "source": [
    "# ==> Build MintsHelper Instance <==\n",
    "# Build new wavefunction\n",
    "wfn = psi4.core.Wavefunction.build(h2o, psi4.core.get_global_option(\"basis\"))\n",
    "\n",
    "# Initialize MintsHelper with wavefunction's basis set\n",
    "mints = psi4.core.MintsHelper(wfn.basisset())"
   ]
  },
  {
   "cell_type": "markdown",
   "metadata": {},
   "source": [
    "Below are summarized several commonly computed quantities and how to obtain them using a `MintsHelper` class method:\n",
    "\n",
    "| Quantity | Function | Description |\n",
    "|----------|----------|-------------|\n",
    "| AO Overlap integrals | [mints.ao_overlap()](http://psicode.org/psi4manual/master/psi4api.html#psi4.core.MintsHelper.ao_overlap \"Go to Documentation\") | Returns AO overlap matrix as a `psi4.core.Matrix` object |\n",
    "| AO Kinetic Energy | [mints.ao_kinetic()](http://psicode.org/psi4manual/master/psi4api.html#psi4.core.MintsHelper.ao_kinetic \"Go to Documentation\") | Returns AO kinetic energy matrix as a `psi4.core.Matrix` object |\n",
    "| AO Potential Energy | [mints.ao_potential()](http://psicode.org/psi4manual/master/psi4api.html#psi4.core.MintsHelper.ao_potential \"Go to Documentation\") | Returns AO potential energy matrix as a `psi4.core.Matrix` object |\n",
    "| AO Electron Repulsion Integrals | [mints.ao_eri()](http://psicode.org/psi4manual/master/psi4api.html#psi4.core.MintsHelper.ao_eri \"Go to Documentation\") | Returns AO electron repulsion integrals as a `psi4.core.Matrix` object "
   ]
  },
  {
   "cell_type": "markdown",
   "metadata": {},
   "source": [
    "As discussed previously, any of these `psi4.core.Matrix` objects can be accessed as Julia arrays, which is the preferred \n",
    "method in Psi4Julia.  For a Psi4 matrix `A`, we can access a Julia view using `psi4view(A)`, or we can make a\n",
    "copy of the matrix using `np.array(A)`.  This works as one would expect, converting square matrices into arrays of Array{Float64,2} type, for the overlap (S), kinetic energy (T), and potential energy (V) matrices.  In Psi4, the electron repulsion integrals \n",
    "(ERIs) are handled somewhat differently; `mints.ao_eri()` returns the rank-4 ERI tensor packed into a 2D matrix.  If the \n",
    "four indices of the ERI are p, q, r, s, then this element of the Psi4 Matrix can be accessed by first computing composite \n",
    "indices `pq = p * nbf + q` and `rs = r * nbf + s`, and then accessing element `A.get(pq,rs)`.  However, for convenience, \n",
    "the Julia view is a rank-4 tensor, and a particular ERI is more simply accessed like this:\n",
    "~~~python\n",
    "I = mints.ao_eri()\n",
    "I = psi4view(I)\n",
    "val = I[p,q,r,s]\n",
    "~~~"
   ]
  },
  {
   "cell_type": "code",
   "execution_count": 3,
   "metadata": {},
   "outputs": [
    {
     "data": {
      "text/plain": [
       "psi4view (generic function with 1 method)"
      ]
     },
     "execution_count": 3,
     "metadata": {},
     "output_type": "execute_result"
    }
   ],
   "source": [
    "function psi4view(psi4matrix)\n",
    "   # Assumes Float64 type, C ordering\n",
    "   if !hasproperty(psi4matrix,:__array_interface__)\n",
    "      throw(ArgumentError(\"Input matrix cannot be accessed. Try assigning to a variable first\"))\n",
    "   end\n",
    "   array_interface = psi4matrix.__array_interface__\n",
    "   array_interface[\"data\"][2] == false   || @warn \"Not writable\"\n",
    "   array_interface[\"strides\"] == nothing || @warn \"Different ordering than C\"\n",
    "   array_interface[\"typestr\"] == \"<f8\"   || @warn \"Not little-endian Float64 eltype\"\n",
    "   ptr   = array_interface[\"data\"][1]\n",
    "   shape = reverse(array_interface[\"shape\"])\n",
    "   ndims = length(shape)\n",
    "   unsafe_wrap(Array{Float64,ndims}, Ptr{Float64}(ptr), shape)\n",
    "end"
   ]
  },
  {
   "cell_type": "markdown",
   "metadata": {},
   "source": [
    "In addition to these methods, another which is worth mentioning is the `MintsHelper.mo_eri()` ([Go to documentation](http://psicode.org/psi4manual/master/psi4api.html#psi4.core.MintsHelper.mo_eri)) function, which can transform \n",
    "the four-index, two-electron repulsion integrals from the atomic orbital (AO) to the molecular orbital (MO) basis,\n",
    "which will be important in MP2 theory.  "
   ]
  },
  {
   "cell_type": "markdown",
   "metadata": {},
   "source": [
    "## Memory Considerations"
   ]
  },
  {
   "cell_type": "markdown",
   "metadata": {},
   "source": [
    "Before moving forward to computing any 1- or 2-electron integrals, we must first discuss the memory requirements of\n",
    "these objects.  Whenever these quantities are computed, they are stored directly in memory (a.k.a. RAM,\n",
    "*not* on the hard drive) which, for a typical laptop or personal computer, usually tops out at around 16 GB of \n",
    "space.  The storage space required by the two-index AO overlap integrals and four-index ERIs scales as ${\\cal O}(N^2)$ \n",
    "and ${\\cal O}(N^4)$, respectively, where $N$ is the number of AO basis functions.  This means that for a\n",
    "system with 500 AO basis functions, while the AO overlap integrals will only require 1 MB of memory to store,\n",
    "the ERIs will require a staggering **500 GB** of memory!! This can be reduced to **62.5 GB** of memory if integral permutational symmetry is used. \n",
    "However, this complicates the bookkeeping, and is not used in the `mints` functions discussed above.  For this reason, as well as the steep computational \n",
    "scaling of many of the methods demonstrated here, we limit ourselves to small systems ($\\sim50$ basis functions)\n",
    "which should not require such egregious amounts of memory.  Additionally, we will employ a \"memory check\" to catch\n",
    "any case which could potentially try to use more memory than is available:\n",
    "~~~python\n",
    "# Memory check for ERI tensor\n",
    "I_size = nbf^4 * 8.e-9\n",
    "printfmt(\"Size of the ERI tensor will be {:4.2f} GB.\\n\", I_size)\n",
    "memory_footprint = I_size * 1.5\n",
    "if I_size > numpy_memory\n",
    "    psi4.core.clean()\n",
    "    throw(OutOfMemoryError(\"Estimated memory utilization ($memory_footprint GB) exceeds allotted memory \" *\n",
    "                           \"limit of $numpy_memory GB.\"))\n",
    "~~~\n",
    "In this example, we have somewhat arbitrarily assumed that whatever other matrices we may need, in total their memory\n",
    "requirement will not exceed 50% of the size of the ERIs (hence, the total memory footprint of `I_size * 1.5`)\n",
    "Using the `numpy_memory` variable, we are able to control whether the ERIs will be computed, based on the amount of\n",
    "memory required to store them. \n",
    "\n",
    "<font color=\"red\">**NOTE: DO NOT EXCEED YOUR SYSTEM'S MEMORY.  THIS MAY RESULT IN YOUR PROGRAM AND/OR COMPUTER CRASHING!**</font>"
   ]
  },
  {
   "cell_type": "markdown",
   "metadata": {},
   "source": [
    "## Examples: AO Overlap, AO ERIs, Core Hamiltonian\n",
    "The cell below demonstrates obtaining the AO overlap integrals, conducting the\n",
    "above memory check, and computing the ERIs and core Hamiltonian matrix for our water molecule."
   ]
  },
  {
   "cell_type": "code",
   "execution_count": 4,
   "metadata": {},
   "outputs": [
    {
     "name": "stdout",
     "output_type": "stream",
     "text": [
      "Size of the ERI tensor will be 0.00 GB.\n"
     ]
    },
    {
     "data": {
      "text/plain": [
       "24×24 Array{Float64,2}:\n",
       " 1.39046e-309    6.95805e-310  …    0.0           0.0\n",
       " 1.39046e-309    1.03384e243        6.95232e-310  6.79795e-313\n",
       " 6.95232e-310    9.02427e-66        6.95232e-310  6.95232e-310\n",
       " 6.95232e-310    6.95232e-310       6.95232e-310  6.95232e-310\n",
       " 6.95802e-310    6.96442e-310       1.01922e-312  6.95232e-310\n",
       " 6.95232e-310    6.95232e-310  …    6.95232e-310  6.8037e-313\n",
       " 2.26514e-314    6.95235e-310       6.95232e-310  6.95232e-310\n",
       " 5.0e-324        1.39046e-309       6.95232e-310  6.95232e-310\n",
       " 1.34662e-307    1.37955e-312       2.26713e-314  6.95232e-310\n",
       " 1.39046e-309    6.95232e-310       1.0e-323      6.80365e-313\n",
       " 1.39046e-309    1.39046e-309  …    0.0           6.95232e-310\n",
       " 6.95232e-310    2.86421e161      NaN             6.95232e-310\n",
       " 1.37946e-312    9.31115e242        0.0           6.95232e-310\n",
       " 6.95232e-310    1.39046e-309      -1.78374       5.94739e-313\n",
       " 6.95232e-310    6.95232e-310     NaN             6.95232e-310\n",
       " 1.39046e-309    1.39046e-309  …    0.0           6.95232e-310\n",
       " 2.38242e180     2.86421e161        6.95232e-310  6.95232e-310\n",
       " 6.95236e-310    9.31115e242        6.95232e-310  1.18857e-312\n",
       " 1.39046e-309    6.95232e-310       2.26779e-314  6.95232e-310\n",
       " 1.39046e-309  NaN                  6.95232e-310  6.95232e-310\n",
       " 1.1912e-312     6.95232e-310  …    6.95232e-310  6.95232e-310\n",
       " 1.39046e-309    2.00432            5.0e-324      1.37988e-312\n",
       " 6.95232e-310  NaN                  0.0           6.95232e-310\n",
       " 6.95232e-310    2.62583            0.0           0.0"
      ]
     },
     "execution_count": 4,
     "metadata": {},
     "output_type": "execute_result"
    }
   ],
   "source": [
    "# ==> Integrals galore! <==\n",
    "# AO Overlap\n",
    "S = mints.ao_overlap()\n",
    "S = psi4view(S) # psi4view(mints.ao_overlap()) would fail, first assign to a variable\n",
    "\n",
    "# Number of basis functions\n",
    "nbf = size(S)[1]\n",
    "\n",
    "# Memory check\n",
    "I_size = nbf^4 * 8.e-9\n",
    "printfmt(\"Size of the ERI tensor will be {:4.2f} GB.\\n\", I_size)\n",
    "memory_footprint = I_size * 1.5\n",
    "if I_size > numpy_memory\n",
    "    psi4.core.clean()\n",
    "    throw(OutOfMemoryError(\"Estimated memory utilization ($memory_footprint GB) exceeds allotted memory \" *\n",
    "                           \"limit of $numpy_memory GB.\"))\n",
    "end\n",
    "\n",
    "# Compute AO-basis ERIs\n",
    "I = mints.ao_eri()\n",
    "\n",
    "# Compute AO Core Hamiltonian\n",
    "T = mints.ao_kinetic()\n",
    "V = mints.ao_potential()\n",
    "T = psi4view(T)\n",
    "V = psi4view(V)\n",
    "H = T + V"
   ]
  }
 ],
 "metadata": {
  "jupytext": {
   "formats": "jl:light,ipynb"
  },
  "kernelspec": {
   "display_name": "Julia 1.4.2",
   "language": "julia",
   "name": "julia-1.4"
  },
  "language_info": {
   "file_extension": ".jl",
   "mimetype": "application/julia",
   "name": "julia",
   "version": "1.4.2"
  }
 },
 "nbformat": 4,
 "nbformat_minor": 4
}
