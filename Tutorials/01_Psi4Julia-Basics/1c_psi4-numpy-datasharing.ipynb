{
 "cells": [
  {
   "cell_type": "markdown",
   "metadata": {},
   "source": [
    "# Psi4 $\\leftrightarrow$ Julia Data Sharing\n",
    "\n",
    "The heart of the Psi4Julia project its the ability to easily share and manipulate quantities in Julia. While Psi4 offers the ability to manipulate most objects and perform tensor operations at the Python layer, it is often much easier to use Julia. Fortunately, Psi4 offers seemless integration with Julia. More details on the underlying functions can be found in the Psi4 [documentation](http://psicode.org/psi4manual/master/numpy.html).\n",
    "\n",
    "As before, let us start off with importing Psi4 and NumPy while also creating a random `5 x 5` Julia array:"
   ]
  },
  {
   "cell_type": "code",
   "execution_count": null,
   "metadata": {},
   "outputs": [],
   "source": [
    "using PyCall: pyimport\n",
    "psi4 = pyimport(\"psi4\")\n",
    "np   = pyimport(\"numpy\")\n",
    "\n",
    "# Random number array\n",
    "array = rand(5, 5)"
   ]
  },
  {
   "cell_type": "markdown",
   "metadata": {},
   "source": [
    "Converting this to a Psi4 Matrix, which is an instance of the [`psi4.core.Matrix`](http://psicode.org/psi4manual/master/psi4api.html#psi4.core.Matrix \n",
    "\"Go to API\") class, and back again is as simple as:"
   ]
  },
  {
   "cell_type": "code",
   "execution_count": null,
   "metadata": {},
   "outputs": [],
   "source": [
    "psi4_matrix = psi4.core.Matrix.from_array(array)\n",
    "new_array = np.array(psi4_matrix)\n",
    "\n",
    "println(\"Allclose new_array, array: \", np.allclose(new_array, array))"
   ]
  },
  {
   "cell_type": "markdown",
   "metadata": {},
   "source": [
    "## Views\n",
    "Because both of these objects have the same in-memory data layout, the conversion is accomplished using the NumPy \n",
    "[array_interface](https://docs.scipy.org/doc/numpy/reference/arrays.interface.html). This also opens the opportunity \n",
    "to manipulate the Psi4 Matrix and Vector classes directly in memory.  To do this, we wrap the PyObject with a Julia Matrix object:"
   ]
  },
  {
   "cell_type": "code",
   "execution_count": null,
   "metadata": {},
   "outputs": [],
   "source": [
    "matrix = psi4.core.Matrix(3, 3)\n",
    "print(\"Zero Psi4 Matrix:\")\n",
    "display(np.array(matrix))\n",
    "\n",
    "#matrix.np[:] .= 1 # does not work as in Python, it is read-only\n",
    "#matrix.set(1)     # works but it uses psi.core, not julia\n",
    "function psi4view(psi4matrix)\n",
    "   # Limitations: you have to check the type manually, it may not be a matrix\n",
    "   # Use numpy __array_interface__\n",
    "   # [\"data\"][1] is the pointer to the first element of the array\n",
    "   # [\"data\"][2] is true when it is read-only\n",
    "   # [\"strides\"] is nothing if has C ordering (default)\n",
    "   # [\"shape\"]   has the shape in (C ordering by default) [needs reversing]\n",
    "   # [\"typestr\"] has the element type\n",
    "   array_interface = psi4matrix.__array_interface__\n",
    "   array_interface[\"data\"][2] == false   || @warn \"Not writable\"\n",
    "   array_interface[\"strides\"] == nothing || @warn \"Different ordering than C\"\n",
    "   ptr   = array_interface[\"data\"][1]\n",
    "   shape = reverse(array_interface[\"shape\"])\n",
    "   unsafe_wrap(Matrix{Float64}, Ptr{Float64}(ptr), shape)\n",
    "end\n",
    "jlmatrix = psi4view(matrix) # This is a Julia matrix using psi4 memory\n",
    "jlmatrix .= 1\n",
    "print(\"Matrix updated to ones:\")\n",
    "display(np.asarray(matrix))"
   ]
  },
  {
   "cell_type": "markdown",
   "metadata": {},
   "source": [
    "Theoretically, `PyArray(matrix)` (from PyCall) should return a Julia array. But here it does not work.\n",
    "The `psi4view` function created here effectively returns a Julia matrix that uses the memory of the Psi4 object. This view can then be manipulated as a conventional NumPy array and the underlying Psi4 Matrix data will be modified.\n",
    "\n",
    "<font color='red'>**Warning!** The following operation operation is incorrect and can potenitally lead to confusion:</font>"
   ]
  },
  {
   "cell_type": "code",
   "execution_count": null,
   "metadata": {},
   "outputs": [],
   "source": [
    "display(psi4.core.Matrix(3, 3).np)"
   ]
  },
  {
   "cell_type": "markdown",
   "metadata": {},
   "source": [
    "While the above operation works about ~90% of the time, occasionally you will notice extremely large and small values. This is due to the fact that when you create the Psi4 Matrix and grab its view, the Psi4 Matrix is no longer bound to anything, and Python will attempt to \"garbage collect\" or remove the object. This sometimes happens *before* Python prints out the object so the NumPy view is pointing to a random piece of data in memory. However, this has not been observed in Julia. A safe way to do this would be:"
   ]
  },
  {
   "cell_type": "code",
   "execution_count": null,
   "metadata": {},
   "outputs": [],
   "source": [
    "mat = psi4.core.Matrix(3, 3)\n",
    "display(mat.np)\n",
    "\n",
    "# or\n",
    "display(np.asarray(psi4.core.Matrix(3, 3)))"
   ]
  },
  {
   "cell_type": "markdown",
   "metadata": {},
   "source": [
    "Similar to the `.np` attribute, one can use `np.asarray` to create a Julia copy of a Psi4 object. `np.array` which will copy the data too."
   ]
  },
  {
   "cell_type": "code",
   "execution_count": null,
   "metadata": {},
   "outputs": [],
   "source": [
    "mat = psi4.core.Matrix(3, 3)\n",
    "mat_view = np.asarray(mat)\n",
    "\n",
    "mat_view .= rand(mat.shape...)\n",
    "display(mat.np)"
   ]
  },
  {
   "cell_type": "code",
   "execution_count": null,
   "metadata": {},
   "outputs": [],
   "source": [
    "mat = psi4.core.Matrix(3, 3)\n",
    "mat_view = psi4view(mat)\n",
    "\n",
    "mat_view .= rand(mat.shape...)\n",
    "display(mat.np)"
   ]
  },
  {
   "cell_type": "markdown",
   "metadata": {},
   "source": [
    "Keep in mind that you must *update* this view using the `.=` syntax and not replace it (`=`). The following example should demonstrate the difference:"
   ]
  },
  {
   "cell_type": "code",
   "execution_count": null,
   "metadata": {},
   "outputs": [],
   "source": [
    "mat_view = zeros(3, 3)\n",
    "\n",
    "# Mat is not updated as we replaced the mat_view with a new Julia matrix.\n",
    "display(mat.np)"
   ]
  },
  {
   "cell_type": "markdown",
   "metadata": {},
   "source": [
    "## Vector class\n",
    "Like the Psi4 Matrix class, the [`psi4.core.Vector`](http://psicode.org/psi4manual/master/psi4api.html#psi4.core.Vector \"Go to API\")\n",
    "class has similar accessors:"
   ]
  },
  {
   "cell_type": "code",
   "execution_count": null,
   "metadata": {},
   "outputs": [],
   "source": [
    "arr = rand(5)\n",
    "vec = psi4.core.Vector.from_array(arr)\n",
    "display(vec.np)"
   ]
  }
 ],
 "metadata": {
  "jupytext": {
   "formats": "jl:light,ipynb"
  },
  "kernelspec": {
   "display_name": "Julia 1.4.2",
   "language": "julia",
   "name": "julia-1.4"
  },
  "language_info": {
   "file_extension": ".jl",
   "mimetype": "application/julia",
   "name": "julia",
   "version": "1.4.2"
  }
 },
 "nbformat": 4,
 "nbformat_minor": 4
}
