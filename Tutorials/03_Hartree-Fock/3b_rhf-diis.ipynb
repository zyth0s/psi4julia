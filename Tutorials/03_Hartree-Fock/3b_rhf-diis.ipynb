{
 "cells": [
  {
   "cell_type": "markdown",
   "metadata": {},
   "source": [
    "# Direct Inversion of the Iterative Subspace\n",
    "\n",
    "When solving systems of linear (or nonlinear) equations, iterative methods are often employed.  Unfortunately, such methods often suffer from convergence issues such as numerical instability, slow convergence, and significant computational expense when applied to difficult problems.  In these cases, convergence accelleration methods may be applied to both speed up, stabilize and/or reduce the cost for the convergence patterns of these methods, so that solving such problems become computationally tractable.  One such method is known as the direct inversion of the iterative subspace (DIIS) method, which is commonly applied to address convergence issues within self consistent field computations in Hartree-Fock theory (and other iterative electronic structure methods).  In this tutorial, we'll introduce the theory of DIIS for a general iterative procedure, before integrating DIIS into our previous implementation of RHF.\n",
    "\n",
    "## I. Theory\n",
    "\n",
    "DIIS is a widely applicable convergence acceleration method, which is applicable to numerous problems in linear algebra and the computational sciences, as well as quantum chemistry in particular.  Therefore, we will introduce the theory of this method in the general sense, before seeking to apply it to SCF.  \n",
    "\n",
    "Suppose that for a given problem, there exist a set of trial vectors $\\{\\mid{\\bf p}_i\\,\\rangle\\}$ which have been generated iteratively, converging toward the true solution, $\\mid{\\bf p}^f\\,\\rangle$.  Then the true solution can be approximately constructed as a linear combination of the trial vectors,\n",
    "$$\\mid{\\bf p}\\,\\rangle = \\sum_ic_i\\mid{\\bf p}_i\\,\\rangle,$$\n",
    "where we require that the residual vector \n",
    "$$\\mid{\\bf r}\\,\\rangle = \\sum_ic_i\\mid{\\bf r}_i\\,\\rangle\\,;\\;\\;\\; \\mid{\\bf r}_i\\,\\rangle \n",
    "=\\, \\mid{\\bf p}_{i+1}\\,\\rangle - \\mid{\\bf p}_i\\,\\rangle$$\n",
    "is a least-squares approximate to the zero vector, according to the constraint\n",
    "$$\\sum_i c_i = 1.$$\n",
    "This constraint on the expansion coefficients can be seen by noting that each trial function ${\\bf p}_i$ may be represented as an error vector applied to the true solution, $\\mid{\\bf p}^f\\,\\rangle + \\mid{\\bf e}_i\\,\\rangle$.  Then\n",
    "\\begin{align}\n",
    "\\mid{\\bf p}\\,\\rangle &= \\sum_ic_i\\mid{\\bf p}_i\\,\\rangle\\\\\n",
    "&= \\sum_i c_i(\\mid{\\bf p}^f\\,\\rangle + \\mid{\\bf e}_i\\,\\rangle)\\\\\n",
    "&= \\mid{\\bf p}^f\\,\\rangle\\sum_i c_i + \\sum_i c_i\\mid{\\bf e}_i\\,\\rangle\n",
    "\\end{align}\n",
    "Convergence results in a minimization of the error (causing the second term to vanish); for the DIIS solution vector $\\mid{\\bf p}\\,\\rangle$ and the true solution vector $\\mid{\\bf p}^f\\,\\rangle$ to be equal, it must be that $\\sum_i c_i = 1$.  We satisfy our condition for the residual vector by minimizing its norm,\n",
    "$$\\langle\\,{\\bf r}\\mid{\\bf r}\\,\\rangle = \\sum_{ij} c_i^* c_j \\langle\\,{\\bf r}_i\\mid{\\bf r}_j\\,\\rangle,$$\n",
    "using Lagrange's method of undetermined coefficients subject to the constraint on $\\{c_i\\}$:\n",
    "$${\\cal L} = {\\bf c}^{\\dagger}{\\bf Bc} - \\lambda\\left(1 - \\sum_i c_i\\right)$$\n",
    "where $B_{ij} = \\langle {\\bf r}_i\\mid {\\bf r}_j\\rangle$ is the matrix of residual vector overlaps.  Minimization of the Lagrangian with respect to the coefficient $c_k$ yields (for real values)\n",
    "\\begin{align}\n",
    "\\frac{\\partial{\\cal L}}{\\partial c_k} = 0 &= \\sum_j c_jB_{jk} + \\sum_i c_iB_{ik} - \\lambda\\\\\n",
    "&= 2\\sum_ic_iB_{ik} - \\lambda\n",
    "\\end{align}\n",
    "which has matrix representation\n",
    "\\begin{equation}\n",
    "\\begin{pmatrix}\n",
    "  B_{11} & B_{12} & \\cdots & B_{1m} & -1 \\\\\n",
    "  B_{21} & B_{22} & \\cdots & B_{2m} & -1 \\\\\n",
    "  \\vdots  & \\vdots  & \\ddots & \\vdots  & \\vdots \\\\\n",
    "  B_{n1} & B_{n2} & \\cdots & B_{nm} & -1 \\\\\n",
    "  -1 & -1 & \\cdots & -1 & 0\n",
    "\\end{pmatrix}\n",
    "\\begin{pmatrix}\n",
    "c_1\\\\\n",
    "c_2\\\\\n",
    "\\vdots \\\\\n",
    "c_n\\\\\n",
    "\\lambda\n",
    "\\end{pmatrix}\n",
    "=\n",
    "\\begin{pmatrix}\n",
    "0\\\\\n",
    "0\\\\\n",
    "\\vdots\\\\\n",
    "0\\\\\n",
    "-1\n",
    "\\end{pmatrix},\n",
    "\\end{equation}\n",
    "\n",
    "which we will refer to as the Pulay equation, named after the inventor of DIIS.  It is worth noting at this point that our trial vectors, residual vectors, and solution vector may in fact be tensors of arbitrary rank; it is for this reason that we have used the generic notation of Dirac in the above discussion to denote the inner product between such objects.\n",
    "\n",
    "## II. Algorithms for DIIS\n",
    "The general DIIS procedure, as described above, has the following structure during each iteration:\n",
    "#### Algorithm 1: Generic DIIS procedure\n",
    "1. Compute new trial vector, $\\mid{\\bf p}_{i+1}\\,\\rangle$, append to list of trial vectors\n",
    "2. Compute new residual vector, $\\mid{\\bf r}_{i+1}\\,\\rangle$, append to list of trial vectors\n",
    "3. Check convergence criteria\n",
    "    - If RMSD of $\\mid{\\bf r}_{i+1}\\,\\rangle$ sufficiently small, and\n",
    "    - If change in DIIS solution vector $\\mid{\\bf p}\\,\\rangle$ sufficiently small, break\n",
    "4. Build **B** matrix from previous residual vectors\n",
    "5. Solve Pulay equation for coefficients $\\{c_i\\}$\n",
    "6. Compute DIIS solution vector $\\mid{\\bf p}\\,\\rangle$\n",
    "\n",
    "For SCF iteration, the most common choice of trial vector is the Fock matrix **F**; this choice has the advantage over other potential choices (e.g., the density matrix **D**) of **F** not being idempotent, so that it may benefit from extrapolation.  The residual vector is commonly chosen to be the orbital gradient in the AO basis,\n",
    "$$g_{\\mu\\nu} = ({\\bf FDS} - {\\bf SDF})_{\\mu\\nu},$$\n",
    "however the better choice (which we will make in our implementation!) is to orthogonormalize the basis of the gradient with the inverse overlap metric ${\\bf A} = {\\bf S}^{-1/2}$:\n",
    "$$r_{\\mu\\nu} = ({\\bf A}^{\\rm T}({\\bf FDS} - {\\bf SDF}){\\bf A})_{\\mu\\nu}.$$\n",
    "Therefore, the SCF-specific DIIS procedure (integrated into the SCF iteration algorithm) will be:\n",
    "#### Algorithm 2: DIIS within an SCF Iteration\n",
    "1. Compute **F**, append to list of previous trial vectors\n",
    "2. Compute AO orbital gradient **r**, append to list of previous residual vectors\n",
    "3. Compute RHF energy\n",
    "3. Check convergence criteria\n",
    "    - If RMSD of **r** sufficiently small, and\n",
    "    - If change in SCF energy sufficiently small, break\n",
    "4. Build **B** matrix from previous AO gradient vectors\n",
    "5. Solve Pulay equation for coefficients $\\{c_i\\}$\n",
    "6. Compute DIIS solution vector **F_DIIS** from $\\{c_i\\}$ and previous trial vectors\n",
    "7. Compute new orbital guess with **F_DIIS**"
   ]
  },
  {
   "cell_type": "markdown",
   "metadata": {},
   "source": [
    "## III. Implementation\n",
    "\n",
    "In order to implement DIIS, we're going to integrate it into an existing RHF program.  Since we just-so-happened to write such a program in the last tutorial, let's re-use the part of the code before the SCF integration which won't change when we include DIIS:"
   ]
  },
  {
   "cell_type": "code",
   "execution_count": 1,
   "metadata": {},
   "outputs": [
    {
     "name": "stdout",
     "output_type": "stream",
     "text": [
      "\n",
      "  Memory set to 476.837 MiB by Python driver.\n"
     ]
    },
    {
     "data": {
      "text/plain": [
       "0.001"
      ]
     },
     "execution_count": 1,
     "metadata": {},
     "output_type": "execute_result"
    }
   ],
   "source": [
    "# ==> Basic Setup <==\n",
    "# Import statements\n",
    "using PyCall: pyimport\n",
    "psi4 = pyimport(\"psi4\")\n",
    "np   = pyimport(\"numpy\") # used only to cast to Psi4 arrays\n",
    "using TensorOperations: @tensor\n",
    "using LinearAlgebra: Diagonal, Hermitian, eigen, tr, norm, dot\n",
    "using Printf: @printf\n",
    "\n",
    "# Memory specification\n",
    "psi4.set_memory(Int(5e8))\n",
    "numpy_memory = 2\n",
    "\n",
    "# Set output file\n",
    "psi4.core.set_output_file(\"output.dat\", false)\n",
    "\n",
    "# Define Physicist's water -- don't forget C1 symmetry!\n",
    "mol = psi4.geometry(\"\"\"\n",
    "O\n",
    "H 1 1.1\n",
    "H 1 1.1 2 104\n",
    "symmetry c1\n",
    "\"\"\")\n",
    "\n",
    "# Set computation options\n",
    "psi4.set_options(Dict(\"basis\" => \"cc-pvdz\",\n",
    "                      \"scf_type\" => \"pk\",\n",
    "                      \"e_convergence\" => 1e-8))\n",
    "\n",
    "# Maximum SCF iterations\n",
    "MAXITER = 40\n",
    "# Energy convergence criterion\n",
    "E_conv = 1.0e-6\n",
    "D_conv = 1.0e-3"
   ]
  },
  {
   "cell_type": "code",
   "execution_count": 2,
   "metadata": {},
   "outputs": [
    {
     "name": "stdout",
     "output_type": "stream",
     "text": [
      "Number of occupied orbitals: 5\n",
      "Number of basis functions: 24\n",
      "\n",
      "Size of the ERI tensor will be 0.0026542080000000003 GB.\n"
     ]
    }
   ],
   "source": [
    "# ==> Static 1e- & 2e- Properties <==\n",
    "# Class instantiation\n",
    "wfn = psi4.core.Wavefunction.build(mol, psi4.core.get_global_option(\"basis\"))\n",
    "mints = psi4.core.MintsHelper(wfn.basisset())\n",
    "\n",
    "# Overlap matrix\n",
    "S = np.asarray(mints.ao_overlap()) # we only need a copy\n",
    "\n",
    "# Number of basis Functions & doubly occupied orbitals\n",
    "nbf = size(S)[1]\n",
    "ndocc = wfn.nalpha()\n",
    "\n",
    "println(\"Number of occupied orbitals: \", ndocc)\n",
    "println(\"Number of basis functions: \", nbf)\n",
    "\n",
    "# Memory check for ERI tensor\n",
    "I_size = nbf^4 * 8.e-9\n",
    "println(\"\\nSize of the ERI tensor will be $I_size GB.\")\n",
    "memory_footprint = I_size * 1.5\n",
    "if I_size > numpy_memory\n",
    "    psi4.core.clean()\n",
    "    throw(OutOfMemoryError(\"Estimated memory utilization ($memory_footprint GB) exceeds \" * \n",
    "                           \"allotted memory limit of $numpy_memory GB.\"))\n",
    "end\n",
    "\n",
    "# Build ERI Tensor\n",
    "I = np.asarray(mints.ao_eri()) # we only need a copy\n",
    "\n",
    "# Build core Hamiltonian\n",
    "T = np.asarray(mints.ao_kinetic()) # we only need a copy\n",
    "V = np.asarray(mints.ao_potential()) # we only need a copy\n",
    "H = T + V;"
   ]
  },
  {
   "cell_type": "code",
   "execution_count": 3,
   "metadata": {},
   "outputs": [
    {
     "data": {
      "text/plain": [
       "8.002366482173422"
      ]
     },
     "execution_count": 3,
     "metadata": {},
     "output_type": "execute_result"
    }
   ],
   "source": [
    "# ==> CORE Guess <==\n",
    "# AO Orthogonalization Matrix\n",
    "A = mints.ao_overlap()\n",
    "A.power(-0.5, 1.e-16) # ≈ Julia's A^(-0.5) after psi4view()\n",
    "A = np.asarray(A)\n",
    "\n",
    "# Transformed Fock matrix\n",
    "F_p = A * H * A\n",
    "\n",
    "# Diagonalize F_p for eigenvalues & eigenvectors with Julia\n",
    "e, C_p = eigen(Hermitian(F_p))\n",
    "\n",
    "# Transform C_p back into AO basis\n",
    "C = A * C_p\n",
    "\n",
    "# Grab occupied orbitals\n",
    "C_occ = C[:, 1:ndocc]\n",
    "\n",
    "# Build density matrix from occupied orbitals\n",
    "D = C_occ * C_occ'\n",
    "\n",
    "# Nuclear Repulsion Energy\n",
    "E_nuc = mol.nuclear_repulsion_energy()"
   ]
  },
  {
   "cell_type": "markdown",
   "metadata": {},
   "source": [
    "Now let's put DIIS into action.  Before our iterations begin, we'll need to create empty lists to hold our previous residual vectors (AO orbital gradients) and trial vectors (previous Fock matrices), along with setting starting values for our SCF energy and previous energy:"
   ]
  },
  {
   "cell_type": "code",
   "execution_count": 4,
   "metadata": {},
   "outputs": [],
   "source": [
    "# ==> Pre-Iteration Setup <==\n",
    "# SCF & Previous Energy\n",
    "SCF_E = 0.0\n",
    "E_old = 0.0;"
   ]
  },
  {
   "cell_type": "markdown",
   "metadata": {},
   "source": [
    "Now we're ready to write our SCF iterations according to Algorithm 2.  Here are some hints which may help you along the way:\n",
    "\n",
    "#### Starting DIIS\n",
    "Since DIIS builds the approximate solution vector $\\mid{\\bf p}\\,\\rangle$ as a linear combination of the previous trial vectors $\\{\\mid{\\bf p}_i\\,\\rangle\\}$, there's no need to perform DIIS on the first SCF iteration, since there's only one trial vector for DIIS to use!\n",
    "\n",
    "#### Building **B**\n",
    "1. The **B** matrix in the Lagrange equation is really $\\tilde{\\bf B} = \\begin{pmatrix} {\\bf B} & -1\\\\ -1 & 0\\end{pmatrix}$.\n",
    "2. Since **B** is the matrix of residual overlaps, it will be a square matrix of dimension equal to the number of residual vectors.  If **B** is an $N\\times N$ matrix, how big is $\\tilde{\\bf B}$?\n",
    "3. Since our residuals are real, **B** will be a symmetric matrix.\n",
    "4. To build $\\tilde{\\bf B}$, make an empty array of the appropriate dimension, then use array indexing to set the values of the elements.\n",
    "\n",
    "#### Solving the Pulay equation\n",
    "1. Use built-in Julia functionality to make your life easier.\n",
    "2. The solution vector for the Pulay equation is $\\tilde{\\bf c} = \\begin{pmatrix} {\\bf c}\\\\ \\lambda\\end{pmatrix}$, where $\\lambda$ is the Lagrange multiplier, and the right hand side is $\\begin{pmatrix} {\\bf 0}\\\\ -1\\end{pmatrix}$.  "
   ]
  },
  {
   "cell_type": "code",
   "execution_count": 5,
   "metadata": {},
   "outputs": [
    {
     "name": "stdout",
     "output_type": "stream",
     "text": [
      "==> Starting SCF Iterations <==\n",
      "SCF Iteration   1: Energy = -68.9800327333871053 dE = -6.89800e+01 dRMS = 2.79722e+00 \n",
      "SCF Iteration   2: Energy = -69.6472544393141675 dE = -6.67222e-01 dRMS = 2.57832e+00 \n",
      "SCF Iteration   3: Energy = -75.7919291462249021 dE = -6.14467e+00 dRMS = 6.94257e-01 \n",
      "SCF Iteration   4: Energy = -75.9721892296710735 dE = -1.80260e-01 dRMS = 1.81547e-01 \n",
      "SCF Iteration   5: Energy = -75.9893690602362710 dE = -1.71798e-02 dRMS = 2.09996e-02 \n",
      "SCF Iteration   6: Energy = -75.9897163367029123 dE = -3.47276e-04 dRMS = 1.28546e-02 \n",
      "SCF Iteration   7: Energy = -75.9897932415930768 dE = -7.69049e-05 dRMS = 1.49088e-03 \n",
      "SCF Iteration   8: Energy = -75.9897956274068349 dE = -2.38581e-06 dRMS = 6.18909e-04 \n",
      "SCF Iteration   9: Energy = -75.9897957845313954 dE = -1.57125e-07 dRMS = 4.14761e-05 \n",
      "\n",
      "SCF converged.\n",
      "Final RHF Energy: -75.9897957845314 [Eh]\n"
     ]
    }
   ],
   "source": [
    "# Start from fresh orbitals\n",
    "F_p = A * H * A\n",
    "e, C_p = eigen(Hermitian(F_p))\n",
    "C = A * C_p\n",
    "C_occ = C[:, 1:ndocc]\n",
    "D = C_occ * C_occ' ;\n",
    "\n",
    "# Trial & Residual Vector Lists\n",
    "F_list = []\n",
    "DIIS_RESID = []\n",
    "\n",
    "# ==> SCF Iterations w/ DIIS <==\n",
    "println(\"==> Starting SCF Iterations <==\")\n",
    "SCF_E = let SCF_E = SCF_E, E_old = E_old, D = D\n",
    "\n",
    "   # Begin Iterations\n",
    "   for scf_iter in 1:MAXITER\n",
    "      # Build Fock matrix\n",
    "      @tensor G[p,q] := (2I[p,q,r,s] - I[p,r,q,s]) * D[r,s]\n",
    "      F = H + G\n",
    "      \n",
    "      # Build DIIS Residual\n",
    "      diis_r = A * (F * D * S - S * D * F) * A\n",
    "      \n",
    "      # Append trial & residual vectors to lists\n",
    "      push!(F_list, F)\n",
    "      push!(DIIS_RESID, diis_r)\n",
    "      \n",
    "      # Compute RHF energy\n",
    "      SCF_E = tr((H + F) * D) + E_nuc\n",
    "      dE = SCF_E - E_old\n",
    "      dRMS = norm(diis_r)\n",
    "      @printf(\"SCF Iteration %3d: Energy = %4.16f dE = %1.5e dRMS = %1.5e \\n\",\n",
    "                          scf_iter,        SCF_E, SCF_E - E_old,     dRMS)\n",
    "      \n",
    "      # SCF Converged?\n",
    "      if abs(SCF_E - E_old) < E_conv && dRMS < D_conv\n",
    "          break\n",
    "      end\n",
    "      E_old = SCF_E\n",
    "      \n",
    "      if scf_iter >= 2\n",
    "         # Build B matrix\n",
    "         B_dim = length(F_list) + 1\n",
    "         B = zeros(B_dim, B_dim)\n",
    "         B[end,   :] .= -1\n",
    "         B[:  , end] .= -1\n",
    "         B[end, end]  =  0\n",
    "         for i in eachindex(F_list), j in eachindex(F_list)\n",
    "            B[i, j] = dot(DIIS_RESID[i],  DIIS_RESID[j])\n",
    "         end\n",
    "\n",
    "         # Build RHS of Pulay equation \n",
    "         rhs = zeros(B_dim)\n",
    "         rhs[end] = -1\n",
    "         \n",
    "         # Solve Pulay equation for c_i's with Julia\n",
    "         coeff = B \\ rhs\n",
    "         \n",
    "         # Build DIIS Fock matrix\n",
    "         F = zeros(size(F))\n",
    "         for i in 1:length(coeff) - 1\n",
    "            F += coeff[i] * F_list[i]\n",
    "         end\n",
    "      end\n",
    "      \n",
    "      # Compute new orbital guess with DIIS Fock matrix\n",
    "      F_p =  A * F * A\n",
    "      e, C_p = eigen(Hermitian(F_p))\n",
    "      C = A * C_p\n",
    "      C_occ = C[:, 1:ndocc]\n",
    "      D = C_occ * C_occ'\n",
    "      \n",
    "      # MAXITER exceeded?\n",
    "      if scf_iter == MAXITER\n",
    "          psi4.core.clean()\n",
    "          throw(MethodError(\"Maximum number of SCF iterations exceeded.\"))\n",
    "      end\n",
    "   end\n",
    "   SCF_E\n",
    "end\n",
    "\n",
    "# Post iterations\n",
    "println(\"\\nSCF converged.\")\n",
    "println(\"Final RHF Energy: $SCF_E [Eh]\")"
   ]
  },
  {
   "cell_type": "markdown",
   "metadata": {},
   "source": [
    "Congratulations! You've written your very own Restricted Hartree-Fock program with DIIS convergence accelleration!  Finally, let's check your final RHF energy against <span style='font-variant: small-caps'> Psi4</span>:"
   ]
  },
  {
   "cell_type": "code",
   "execution_count": 6,
   "metadata": {},
   "outputs": [
    {
     "name": "stdout",
     "output_type": "stream",
     "text": [
      "\tSCF Energy........................................................PASSED\n"
     ]
    },
    {
     "data": {
      "text/plain": [
       "true"
      ]
     },
     "execution_count": 6,
     "metadata": {},
     "output_type": "execute_result"
    }
   ],
   "source": [
    "# Compare to Psi4\n",
    "SCF_E_psi = psi4.energy(\"SCF\")\n",
    "psi4.compare_values(SCF_E_psi, SCF_E, 6, \"SCF Energy\")"
   ]
  },
  {
   "cell_type": "markdown",
   "metadata": {},
   "source": [
    "## References\n",
    "1. P. Pulay. *Chem. Phys. Lett.* **73**, 393-398 (1980)\n",
    "2. C. David Sherrill. *\"Some comments on accellerating convergence of iterative sequences using direct inversion of the iterative subspace (DIIS)\".* Available at: vergil.chemistry.gatech.edu/notes/diis/diis.pdf. (1998)"
   ]
  }
 ],
 "metadata": {
  "jupytext": {
   "encoding": "# -*- coding: utf-8 -*-",
   "formats": "jl:light,ipynb"
  },
  "kernelspec": {
   "display_name": "Julia 1.4.2",
   "language": "julia",
   "name": "julia-1.4"
  },
  "language_info": {
   "file_extension": ".jl",
   "mimetype": "application/julia",
   "name": "julia",
   "version": "1.4.2"
  }
 },
 "nbformat": 4,
 "nbformat_minor": 4
}
