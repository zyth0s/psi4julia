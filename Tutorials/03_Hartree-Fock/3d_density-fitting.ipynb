{
 "cells": [
  {
   "cell_type": "markdown",
   "metadata": {},
   "source": [
    "# Density Fitting\n",
    "\n",
    "Density fitting is an extremely useful tool to reduce the computational scaling of many quantum chemical methods.  \n",
    "Density fitting works by approximating the four-index electron repulsion integral (ERI) tensors from Hartree-Fock \n",
    "theory, $g_{\\mu\\nu\\lambda\\sigma} = (\\mu\\nu|\\lambda\\sigma)$, by\n",
    "\n",
    "$$(\\mu\\nu|\\lambda\\sigma) \\approx \\widetilde{(\\mu\\nu|P)}[J^{-1}]_{PQ}\\widetilde{(Q|\\lambda\\sigma)}$$\n",
    "\n",
    "where the Coulomb metric $[J]_{PQ}$ and the three-index integral $\\widetilde{(Q|\\lambda\\sigma)}$ are defined as\n",
    "\n",
    "\\begin{align}\n",
    "[J]_{PQ} &= \\int P(r_1)\\frac{1}{r_{12}}Q(r_2){\\rm d}^3r_1{\\rm d}^3r_2\\\\\n",
    "\\widetilde{(Q|\\lambda\\sigma)} &= \\int Q(r_1)\\frac{1}{r_{12}}\\lambda(r_2)\\sigma(r_2){\\rm d}^3r_1{\\rm d}^3r_2\n",
    "\\end{align}\n",
    "\n",
    "To simplify the density fitting notation, the inverse Coulomb metric is typically folded into the three-index tensor:\n",
    "\n",
    "\\begin{align}\n",
    "(P|\\lambda\\sigma) &= [J^{-\\frac{1}{2}}]_{PQ}\\widetilde{(Q|\\lambda\\sigma)}\\\\\n",
    "g_{\\mu\\nu\\lambda\\sigma} &\\approx (\\mu\\nu|P)(P|\\lambda\\sigma)\n",
    "\\end{align}\n",
    "\n",
    "These transformed three-index tensors can then be used to compute various quantities, including the four-index ERIs, \n",
    "as well as Coulomb (J) and exchange (K) matrices, and therefore the Fock matrix (F).  Before we go any further, let's\n",
    "see how to generate these transformed tensors using <span style='font-variant: small-caps'> Psi4</span>.  \n",
    "\n",
    "First, let's import <span style='font-variant: small-caps'> Psi4</span> and set up some global options, as well as\n",
    "define a molecule and initial wavefunction:"
   ]
  },
  {
   "cell_type": "code",
   "execution_count": 1,
   "metadata": {},
   "outputs": [
    {
     "name": "stdout",
     "output_type": "stream",
     "text": [
      "\n",
      "  Memory set to   1.863 GiB by Python driver.\n"
     ]
    },
    {
     "data": {
      "text/plain": [
       "PyObject <psi4.core.Wavefunction object at 0x12fea20b0>"
      ]
     },
     "execution_count": 1,
     "metadata": {},
     "output_type": "execute_result"
    }
   ],
   "source": [
    "# ==> Psi4 & NumPy options, Geometry Definition <==\n",
    "using PyCall: pyimport\n",
    "psi4 = pyimport(\"psi4\")\n",
    "np   = pyimport(\"numpy\") # used only to cast to Psi4 arrays\n",
    "using TensorOperations: @tensor\n",
    "\n",
    "function psi4view(psi4matrix)\n",
    "   # Assumes Float64 type, C ordering\n",
    "   if !hasproperty(psi4matrix,:__array_interface__)\n",
    "      throw(ArgumentError(\"Input matrix cannot be accessed. Cannot be an rvalue\"))\n",
    "   end\n",
    "   array_interface = psi4matrix.__array_interface__\n",
    "   array_interface[\"data\"][2] == false   || @warn \"Not writable\"\n",
    "   array_interface[\"strides\"] == nothing || @warn \"Different ordering than C\"\n",
    "   array_interface[\"typestr\"] == \"<f8\"   || @warn \"Not little-endian Float64 eltype\"\n",
    "   ptr   = array_interface[\"data\"][1]\n",
    "   shape = reverse(array_interface[\"shape\"])\n",
    "   ndims = length(shape)\n",
    "   permutedims(unsafe_wrap(Array{Float64,ndims}, Ptr{Float64}(ptr), shape),reverse(1:ndims))\n",
    "end\n",
    "\n",
    "# Set Psi4 memory & output options\n",
    "psi4.set_memory(Int(2e9))\n",
    "psi4.core.set_output_file(\"output.dat\", false)\n",
    "\n",
    "# Geometry specification\n",
    "mol = psi4.geometry(\"\"\"\n",
    "O\n",
    "H 1 0.96\n",
    "H 1 0.96 2 104.5\n",
    "symmetry c1\n",
    "\"\"\")\n",
    "\n",
    "# Psi4 options\n",
    "psi4.set_options(Dict(\"basis\"         => \"cc-pvdz\",\n",
    "                      \"scf_type\"      => \"df\",\n",
    "                      \"e_convergence\" => 1e-10,\n",
    "                      \"d_convergence\" => 1e-10))\n",
    "\n",
    "wfn = psi4.core.Wavefunction.build(mol, psi4.core.get_global_option(\"basis\"))"
   ]
  },
  {
   "cell_type": "markdown",
   "metadata": {},
   "source": [
    "## Building the Auxiliary Basis Set\n",
    "\n",
    "One component of our density-fitted tensors $g_{\\mu\\nu\\lambda\\sigma} \\approx (\\mu\\nu|P)(P|\\lambda\\sigma)$ which\n",
    "is unique from their exact, canonical counterparts $(\\mu\\nu|\\lambda\\sigma)$ is the additional \"auxiliary\" index, $P$.\n",
    "This index corresponds to inserting a resolution of the identity, which is expanded in an auxiliary basis set $\\{P\\}$.\n",
    "In order to build our density-fitted integrals, we first need to generate this auxiliary basis set.  Fortunately,\n",
    "we can do this with the `psi4.core.BasisSet` object:\n",
    "~~~julia\n",
    "# Build auxiliary basis set\n",
    "aux = psi4.core.BasisSet.build(mol, \"DF_BASIS_SCF\", \"\", \"JKFIT\", \"aug-cc-pVDZ\")\n",
    "~~~\n",
    "\n",
    "There are special fitting basis sets that are optimal for a given orbital basis. As we will be building J and K \n",
    "objects we want the `JKFIT` basis associated with the orbital `aug-cc-pVDZ` basis. This basis is straightfowardly \n",
    "named `aug-cc-pVDZ-jkfit`."
   ]
  },
  {
   "cell_type": "code",
   "execution_count": 2,
   "metadata": {},
   "outputs": [
    {
     "data": {
      "text/plain": [
       "PyObject <psi4.core.BasisSet object at 0x13018ecf0>"
      ]
     },
     "execution_count": 2,
     "metadata": {},
     "output_type": "execute_result"
    }
   ],
   "source": [
    "# Build auxiliary basis set\n",
    "aux = psi4.core.BasisSet.build(mol, \"DF_BASIS_SCF\", \"\", \"JKFIT\", \"aug-cc-pVDZ\")"
   ]
  },
  {
   "cell_type": "markdown",
   "metadata": {},
   "source": [
    "## Building Density-Fitted ERIs\n",
    "Now, we can use our orbital and auxiliary basis sets to construct the `Qpq` object with the inverted metric. As the \n",
    "tensors are very similar to full ERI's we can use the same computer for both with the aid of a \"zero basis\". If we \n",
    "think carefully about the $\\widetilde{(Q|\\lambda\\sigma)}$ and $(\\mu\\nu|\\lambda\\sigma)$ we should note that on the \n",
    "right and left hand sides the two gaussian basis functions are contracted to a single density.\n",
    "\n",
    "Specifically, for $\\widetilde{(Q|\\lambda\\sigma)}$ the right hand side is a single basis function without being \n",
    "multiplied by another, so we can \"trick\" the MintsHelper object into computing these quanties if we have a \"basis \n",
    "set\" which effectively does not act on another. This is, effectively, what a \"zero basis\" does.\n",
    "\n",
    "The $[J^{-\\frac{1}{2}}]_{PQ}$ object can be built in a similar way where we use the Psi4 Matrix's built in `power` \n",
    "function to raise this to the $-\\frac{1}{2}$ power. The call `Matrix.power(-0.5, 1.e-14)` will invert the Matrix to \n",
    "the $-\\frac{1}{2}$ while guarding against values smaller than 1.e-14. Recall that machine epsilon is ~1.e-16, when \n",
    "these small values are taken to a negative fractional power they could become very large and dominate the resulting \n",
    "matrix even though they are effectively noise before the inversion.\n",
    "\n",
    "~~~julia\n",
    "orb = wfn.basisset()\n",
    "zero_bas = psi4.core.BasisSet.zero_ao_basis_set()\n",
    "\n",
    "# Build MintsHelper Instance\n",
    "mints = psi4.core.MintsHelper(orb)\n",
    "\n",
    "# Build (P|pq) raw 3-index ERIs, dimension (1, Naux, nbf, nbf)\n",
    "Ppq = mints.ao_eri(zero_bas, aux, orb, orb)\n",
    "Ppq = psi4view(Ppq)\n",
    "\n",
    "# Build and invert the metric\n",
    "metric = mints.ao_eri(zero_bas, aux, zero_bas, aux)\n",
    "metric.power(-0.5, 1.e-14)\n",
    "metric = psi4view(metric)\n",
    "\n",
    "# Remove the excess dimensions of Ppq & metric\n",
    "Ppq = dropdims(Ppq, dims=1)\n",
    "metric = dropdims(metric, dims=(1,3))\n",
    "\n",
    "# Contract Ppq & Metric to build Qso\n",
    "@tensor Qso[Q,p,q] := metric[Q,P] * Ppq[P,p,q]\n",
    "~~~"
   ]
  },
  {
   "cell_type": "code",
   "execution_count": 3,
   "metadata": {
    "code_folding": []
   },
   "outputs": [],
   "source": [
    "# ==> Build Density-Fitted Integrals <==\n",
    "# Get orbital basis & build zero basis\n",
    "orb = wfn.basisset()\n",
    "zero_bas = psi4.core.BasisSet.zero_ao_basis_set()\n",
    "\n",
    "# Build instance of MintsHelper\n",
    "mints = psi4.core.MintsHelper(orb)\n",
    "\n",
    "# Build (P|pq) raw 3-index ERIs, dimension (1, Naux, nbf, nbf)\n",
    "Ppq = mints.ao_eri(zero_bas, aux, orb, orb)\n",
    "Ppq = psi4view(Ppq)\n",
    "\n",
    "# Build & invert Coulomb metric, dimension (1, Naux, 1, Naux)\n",
    "metric = mints.ao_eri(zero_bas, aux, zero_bas, aux)\n",
    "metric.power(-0.5, 1.e-14)\n",
    "metric = psi4view(metric)\n",
    "\n",
    "# Remove excess dimensions of Ppq, & metric\n",
    "Ppq = dropdims(Ppq, dims=1)\n",
    "metric = dropdims(metric, dims=(1,3))\n",
    "\n",
    "# Build the Qso object\n",
    "@tensor Qpq[Q,p,q] := metric[Q,P] * Ppq[P,p,q];"
   ]
  },
  {
   "cell_type": "markdown",
   "metadata": {},
   "source": [
    "## Example: Building a Density-Fitted Fock Matrix\n",
    "Now that we've obtained our `Qpq` tensors, we may use them to build the Fock matrix.  To do so, since we aren't \n",
    "implementing a fully density-fitted RHF program, we'll first need to get a density matrix and one-electron Hamiltonian \n",
    "from somewhere. Let's get them from a converged HF wavefunction, so we can check our work later:"
   ]
  },
  {
   "cell_type": "code",
   "execution_count": 4,
   "metadata": {},
   "outputs": [],
   "source": [
    "# ==> Compute SCF Wavefunction, Density Matrix, & 1-electron H <==\n",
    "scf_e, scf_wfn = psi4.energy(\"scf\", return_wfn=true)\n",
    "D = np.asarray(scf_wfn.Da())\n",
    "H = scf_wfn.H();"
   ]
  },
  {
   "cell_type": "markdown",
   "metadata": {},
   "source": [
    "Now that we have our density-fitted integrals and a density matrix, we can build a Fock matrix.  There are several \n",
    "different algorithms which we can successfully use to do so; for now, we'll use a simple algorithm and `@tensor` \n",
    "to illustrate how to perform contractions with these density fitted tensors and leave a detailed discussion of those \n",
    "algorithms/different tensor contraction methods elsewhere.  Recall that the Fock matrix, $F$, is given by\n",
    "\n",
    "$$F = H + 2J - K,$$\n",
    "\n",
    "where $H$ is the one-electron Hamiltonian matrix, $J$ is the Coulomb matrix, and $K$ is the exchange matrix.  The \n",
    "Coulomb and Exchange matrices have elements guven by\n",
    "\n",
    "\\begin{align}\n",
    "J[D_{\\lambda\\sigma}]_{\\mu\\nu} &= (\\mu\\nu|\\lambda\\sigma)D_{\\lambda\\sigma}\\\\\n",
    "K[D_{\\lambda\\sigma}]_{\\mu\\nu} &= (\\mu\\lambda|\\nu\\sigma)D_{\\lambda\\sigma}.\n",
    "\\end{align}\n",
    "\n",
    "When employing conventional 4-index ERI tensors, computing both $J$ and $K$ involves contracting over four unique\n",
    "indices, which involves four distinct loops -- one over each unique index in the contraction.  Therefore, the \n",
    "scaling of this procedure is $\\mathcal{O}(N^4)$, where $N$ is the number of iterations in each loop (one for each \n",
    "basis function).  The above expressions can be coded using `@tensor` to handle the tensor contractions:\n",
    "\n",
    "~~~julia\n",
    "@tensor J[p,q] := I[p,q,r,s] * D[r,s]\n",
    "@tensor K[p,q] := I[p,r,q,s] * D[r,s]\n",
    "~~~\n",
    "\n",
    "for exact ERIs `I_pqrs`.  If we employ density fitting, however, we can reduce this scaling by reducing the number \n",
    "of unique indices involved in the contractions.  Substituting in the density-fitted $(P|\\lambda\\sigma)$ tensors into \n",
    "the above expressions, we obtain the following:\n",
    "\n",
    "\\begin{align}\n",
    "J[D_{\\lambda\\sigma}]_{\\mu\\nu} &= (\\mu\\nu|P)(P|\\lambda\\sigma)D_{\\lambda\\sigma}\\\\\n",
    "K[D_{\\lambda\\sigma}]_{\\mu\\nu} &= (\\mu\\lambda|P)(P|\\nu\\sigma)D_{\\lambda\\sigma}.\n",
    "\\end{align}\n",
    "\n",
    "Naively, this seems like we have actually *increased* the scaling of our algorithm, because we have added the $P$ \n",
    "index to the expression, bringing the total to five unique indices, meaning this would scale like .  We've actually \n",
    "made our lives easier, however: with three different tensors to contract, we can perform one contraction at a time!  \n",
    "\n",
    "For $J$, this works out to the following two-step procedure:\n",
    "\n",
    "\\begin{align}\n",
    "\\chi_P &= (P|\\lambda\\sigma)D_{\\lambda\\sigma} \\\\\n",
    "J[D_{\\lambda\\sigma}]_{\\mu\\nu} &= (\\mu\\nu|P)\\chi_P\n",
    "\\end{align}\n",
    "\n",
    "\n",
    "In the cell below, using `@tensor` and our `Qpq` tensor, try to construct `J`:"
   ]
  },
  {
   "cell_type": "code",
   "execution_count": 5,
   "metadata": {},
   "outputs": [],
   "source": [
    "# Two-step build of J with Qpq and D\n",
    "@tensor X_Q[Q] := Qpq[Q,p,q] * D[p,q]\n",
    "@tensor J[p,q] := Qpq[Q,p,q] * X_Q[Q];"
   ]
  },
  {
   "cell_type": "markdown",
   "metadata": {},
   "source": [
    "Each of the above contractions, first constructing the `X_Q` intermediate and finally the full Coulomb matrix `J`, only involve three unique indices.  Therefore, the Coulomb matrix build above scales as $\\mathcal{O}(N_{\\rm aux}N^2)$.  Notice that we have distinguished the number of auxiliary ($N_{\\rm aux}$) and orbital ($N$) basis functions; this is because auxiliary basis sets are usually around double the size of their corresponding orbital counterparts.  \n",
    "\n",
    "We can play the same intermediate trick for building the Exchange matrix $K$:\n",
    "\n",
    "\\begin{align}\n",
    "\\zeta_{P\\nu\\lambda} &= (P|\\nu\\sigma)D_{\\lambda\\sigma} \\\\\n",
    "K[D_{\\lambda\\sigma}]_{\\mu\\nu} &= (\\mu\\lambda|P)\\zeta_{P\\nu\\lambda}\n",
    "\\end{align}\n",
    "\n",
    "Just like with $J$, try building $K$ in the cell below:"
   ]
  },
  {
   "cell_type": "code",
   "execution_count": 6,
   "metadata": {
    "lines_to_next_cell": 2
   },
   "outputs": [],
   "source": [
    "# Two-step build of K with Qpq and D\n",
    "@tensor Z_Qqr[Q,r,q] := Qpq[Q,r,s] * D[s,q]\n",
    "@tensor K[p,r]       := Qpq[Q,p,q] * Z_Qqr[Q,r,q];"
   ]
  },
  {
   "cell_type": "markdown",
   "metadata": {},
   "source": [
    "Unfortunately, our two-step $K$ build does not incur a reduction in the overall scaling of the algorithm, with each contraction above scaling as $\\mathcal{O}(N^3N_{\\rm aux})$. The major benefit of density fitting for $K$ builds comes in the form of the small storage overhead of the three-index `Qpq` tensors compared to the full four-index `I_pqrs` tensors.  Even when exploiting the full eight-fold symmetry of the $(\\mu\\nu|\\lambda\\sigma)$ integrals, storing `I_pqrs` for a system with 3000 AO basis functions will require 81 TB of space, compared to a mere 216 GB to store the full `Qpq` object when exploiting the twofold symmetry of $(P|\\lambda\\sigma)$.  \n",
    "\n",
    "Now that we've built density-fitted versions of the $J$ and $K$ matrices, let's check our work by comparing a Fock matrix built using our $J$ and $K$ with the fully converged Fock matrix from our original SCF/aug-cc-pVDZ computation.  \n",
    "\n",
    "Below, build F using the one-electron Hamiltonian from the converged SCF wavefuntion and our $J$ and $K$ matrices.  Then, get the converged $F$ from the SCF wavefunction:"
   ]
  },
  {
   "cell_type": "code",
   "execution_count": 7,
   "metadata": {},
   "outputs": [],
   "source": [
    "# Build F from SCF 1 e- Hamiltonian and our density-fitted J & K\n",
    "F = H + 2 * J - K\n",
    "# Get converged Fock matrix from converged SCF wavefunction\n",
    "scf_F = scf_wfn.Fa();"
   ]
  },
  {
   "cell_type": "markdown",
   "metadata": {},
   "source": [
    "Feeling lucky? Execute the next cell to see if you've computed $J$, $K$, and $F$ correctly:"
   ]
  },
  {
   "cell_type": "code",
   "execution_count": 10,
   "metadata": {},
   "outputs": [
    {
     "name": "stdout",
     "output_type": "stream",
     "text": [
      "Nicely done!! Your density-fitted Fock matrix matches Psi4!\n"
     ]
    }
   ],
   "source": [
    "if np.allclose(F, scf_F,atol=1e-4)\n",
    "    println(\"Nicely done!! Your density-fitted Fock matrix matches Psi4!\")\n",
    "else\n",
    "    println(\"Whoops...something went wrong.  Try again!\")\n",
    "end"
   ]
  },
  {
   "cell_type": "markdown",
   "metadata": {},
   "source": [
    "Finally, we can remember the identity of the $D$ matrix for SCF which will be $D_{\\lambda\\sigma} = C_{\\lambda i} C_{\\sigma i}$, where $i$ is the occupied index. We can factor our $K$ build once more:\n",
    "\\begin{align}\n",
    "D_{\\lambda\\sigma} &= C_{\\lambda i} C_{\\sigma i} \\\\\n",
    "\\zeta_{P\\nu i} &= (P|\\nu\\sigma)C_{\\sigma i} \\\\\n",
    "K[D_{\\lambda\\sigma}]_{\\mu\\nu} &= \\zeta_{P\\nu i}\\zeta_{P\\mu i}\n",
    "\\end{align}\n",
    "\n",
    "Consider the ratio between the number of basis functions and the size of the occupied index. Why would the above be beneficial?"
   ]
  },
  {
   "cell_type": "markdown",
   "metadata": {},
   "source": [
    "## References\n",
    "1. F. Weigend, Phys. Chem. Chem. Phys. 4, 4285 (2002).\n",
    "2. O. Vahtras, J. Alml ̈of, and M. W. Feyereisen, Chem. Phys. Lett. 213, 514 (1993).\n",
    "3. B. I. Dunlap, J. W. D. Connolly, and J. R. Sabin, J. Chem. Phys. 71, 3396 (1979).\n",
    "4. J. L. Whitten, J. Chem. Phys. 58, 4496 (1973)."
   ]
  }
 ],
 "metadata": {
  "jupytext": {
   "encoding": "# -*- coding: utf-8 -*-",
   "formats": "jl:light,ipynb"
  },
  "kernelspec": {
   "display_name": "Julia 1.4.2",
   "language": "julia",
   "name": "julia-1.4"
  },
  "language_info": {
   "file_extension": ".jl",
   "mimetype": "application/julia",
   "name": "julia",
   "version": "1.4.2"
  }
 },
 "nbformat": 4,
 "nbformat_minor": 4
}
