{
 "cells": [
  {
   "cell_type": "code",
   "execution_count": 1,
   "metadata": {},
   "outputs": [
    {
     "data": {
      "text/plain": [
       "\"2020-08-03\""
      ]
     },
     "execution_count": 1,
     "metadata": {},
     "output_type": "execute_result"
    }
   ],
   "source": [
    "\"\"\"\n",
    "Tutorial: A reference implementation of configuration interactions singles.\n",
    "\"\"\"\n",
    "\n",
    "__authors__   = [\"D. Menendez\", \"Boyi Zhang\", \"Adam S. Abbott\"]\n",
    "__credits__   = [\"D. Menendez\", \"Boyi Zhang\", \"Adam S. Abbott\", \"Justin M. Turney\"]\n",
    "\n",
    "__copyright_amp__ = \"(c) 2014-2020, The Psi4Julia Developers\"\n",
    "__license__   = \"BSD-3-Clause\"\n",
    "__date__      = \"2020-08-03\""
   ]
  },
  {
   "cell_type": "markdown",
   "metadata": {},
   "source": [
    "# Configuration Interaction Singles (CIS) "
   ]
  },
  {
   "cell_type": "markdown",
   "metadata": {},
   "source": [
    "## I. Theoretical Overview"
   ]
  },
  {
   "cell_type": "markdown",
   "metadata": {},
   "source": [
    "In this tutorial, we will implement the configuration interaction singles method in the spin orbital notation. The groundwork for working in the spin orbital notation has been laid out in \"Introduction to the Spin Orbital Formulation of Post-HF methods\" [tutorial](../08_CEPA0_and_CCD/8a_Intro_to_spin_orbital_postHF.ipynb). It is highly recommended to work through that introduction before starting this tutorial. "
   ]
  },
  {
   "cell_type": "markdown",
   "metadata": {},
   "source": [
    "### Configuration Interaction (CI)\n",
    "\n",
    "The configuration interaction wavefunction is constructed as a linear combination of the reference determinants and all singly, doubly, ... n-tuple excited determinants where n is the number of electrons in a given system: \n",
    "\n",
    "\\begin{equation}\n",
    "\\Psi_\\mathrm{CI} = (1 + \\hat{C_1} + \\hat{C_2} + ...\\hat{C_n)}\\Phi\n",
    "\\end{equation}\n",
    "\n",
    "Here, $\\hat{C_n}$ is the n configuration excitation operator. \n",
    "\n",
    "In Full CI, all possible excitations are included in the wavefunction expansion. In truncated CI methods, only a subset of excitations are included. "
   ]
  },
  {
   "cell_type": "markdown",
   "metadata": {},
   "source": [
    "## CIS\n",
    "\n",
    "In CIS, only single excitations from the occupied (indices i,j,k...) to the virtual (indices a,b,c...) orbitals are included. As a result, CIS gives transition energies to an excited state. \n",
    "\n",
    "Assuming we are using canonical Hartree-Fock spin orbitals($\\{\\mathrm{\\psi_p}\\}$) with orbital energies $\\{\\epsilon_p\\}$, we can build a shifted CIS Hamiltonian matrix:\n",
    "\n",
    "\\begin{equation}\n",
    "\\tilde{\\textbf{H}} = \\textbf{H} - E_0 \\textbf{I} = [\\langle \\Phi_P | \\hat{H_e} - E_0|\\Phi_Q \\rangle],\\, \n",
    "\\Phi_P \\in {\\Phi_i^a}\n",
    "\\end{equation}\n",
    "\n",
    "where $E_0$ is the ground state Hartree-Fock state energy given by $\\langle \\Phi | \\hat{H_e}|\\Phi \\rangle$.\n",
    "\n",
    "The matrix elements of this shifted CIS Hamiltonian matrix can be evaluated using Slater's rules to give:\n",
    "\n",
    "\\begin{equation}\n",
    "\\langle \\Phi_i^a | \\hat{H_e} - E_0|\\Phi_j^b \\rangle = (\\epsilon_a - \\epsilon_i)\\delta_{ij} \\delta_{ab}\n",
    "+ \\langle aj || ib \\rangle\n",
    "\\end{equation}\n",
    "\n",
    "This then becomes a standard eigenvalue equation from which we can solve for the excitation energies and the wavefunction expansion coefficients:\n",
    "\n",
    "\\begin{equation}\n",
    "\\tilde{\\textbf{H}} \\textbf{c}_K = \\Delta E_K\\textbf{c}_K, \\,\\Delta E_K = E_K - E_0\n",
    "\\end{equation}\n",
    "\n"
   ]
  },
  {
   "cell_type": "markdown",
   "metadata": {},
   "source": [
    "## II. Implementation"
   ]
  },
  {
   "cell_type": "markdown",
   "metadata": {},
   "source": [
    "As with previous tutorials, let's begin by importing Psi4, NumPy, and TensorOperations and setting memory and output file options."
   ]
  },
  {
   "cell_type": "code",
   "execution_count": 2,
   "metadata": {},
   "outputs": [
    {
     "name": "stdout",
     "output_type": "stream",
     "text": [
      "\n",
      "  Memory set to   1.863 GiB by Python driver.\n"
     ]
    }
   ],
   "source": [
    "# ==> Import Psi4, NumPy, & TensorOperations <==\n",
    "using PyCall: pyimport\n",
    "psi4 = pyimport(\"psi4\")\n",
    "np   = pyimport(\"numpy\") # used only to cast to Psi4 arrays\n",
    "using TensorOperations: @tensor\n",
    "\n",
    "# ==> Set Basic Psi4 Options <==\n",
    "\n",
    "# Memory specifications\n",
    "psi4.set_memory(Int(2e9))\n",
    "numpy_memory = 2\n",
    "\n",
    "# Output options\n",
    "psi4.core.set_output_file(\"output.dat\", false)"
   ]
  },
  {
   "cell_type": "markdown",
   "metadata": {},
   "source": [
    "We now define the molecule and set Psi4 options:"
   ]
  },
  {
   "cell_type": "code",
   "execution_count": 3,
   "metadata": {},
   "outputs": [],
   "source": [
    "mol = psi4.geometry(\"\"\"\n",
    "0 1\n",
    "O\n",
    "H 1 1.1\n",
    "H 1 1.1 2 104\n",
    "symmetry c1\n",
    "\"\"\")\n",
    "\n",
    "psi4.set_options(Dict(\"basis\"         => \"sto-3g\",\n",
    "                      \"scf_type\"      => \"pk\",\n",
    "                      \"reference\"     => \"rhf\",\n",
    "                      \"mp2_type\"      => \"conv\",\n",
    "                      \"e_convergence\" => 1e-8,\n",
    "                      \"d_convergence\" => 1e-8))"
   ]
  },
  {
   "cell_type": "markdown",
   "metadata": {},
   "source": [
    "We use Psi4 to compute the RHF energy and wavefunction and store them in variables `scf_e` and `scf_wfn`. We also check the memory requirements for computation:"
   ]
  },
  {
   "cell_type": "code",
   "execution_count": 4,
   "metadata": {},
   "outputs": [
    {
     "name": "stdout",
     "output_type": "stream",
     "text": [
      "\n",
      "Size of the ERI tensor will be 1.9208e-5 GB.\n"
     ]
    }
   ],
   "source": [
    "# Get the SCF wavefunction & energies\n",
    "scf_e, scf_wfn = psi4.energy(\"scf\", return_wfn=true)\n",
    "\n",
    "# Check memory requirements\n",
    "nmo = scf_wfn.nmo()\n",
    "I_size = nmo^4 * 8e-9\n",
    "println(\"\\nSize of the ERI tensor will be $I_size GB.\")\n",
    "memory_footprint = I_size * 1.5\n",
    "if I_size > numpy_memory\n",
    "    psi4.core.clean()\n",
    "    throw(OutOfMemoryError(\"Estimated memory utilization ($memory_footprint GB) exceeds \" * \n",
    "                           \"allotted memory limit of $numpy_memory GB.\"))\n",
    "end"
   ]
  },
  {
   "cell_type": "markdown",
   "metadata": {},
   "source": [
    "We first obtain orbital information from our wavefunction. We also create an instance of MintsHelper to help build our molecular integrals:"
   ]
  },
  {
   "cell_type": "code",
   "execution_count": 5,
   "metadata": {},
   "outputs": [
    {
     "data": {
      "text/plain": [
       "4"
      ]
     },
     "execution_count": 5,
     "metadata": {},
     "output_type": "execute_result"
    }
   ],
   "source": [
    "# Create instance of MintsHelper class\n",
    "mints = psi4.core.MintsHelper(scf_wfn.basisset())\n",
    "\n",
    "# Get basis and orbital information\n",
    "nbf = mints.nbf()          # Number of basis functions\n",
    "nalpha = scf_wfn.nalpha()  # Number of alpha electrons\n",
    "nbeta = scf_wfn.nbeta()    # Number of beta electrons\n",
    "nocc = nalpha + nbeta      # Total number of electrons\n",
    "nso = 2nbf                 # Total number of spin orbitals\n",
    "nvirt = nso - nocc         # Number of virtual orbitals"
   ]
  },
  {
   "cell_type": "markdown",
   "metadata": {},
   "source": [
    "We now build our 2-electron integral, a 4D tensor, in the spin orbital formulation. We also convert it into physicist's notation and antisymmetrize for easier manipulation of the tensor later on. "
   ]
  },
  {
   "cell_type": "code",
   "execution_count": 6,
   "metadata": {},
   "outputs": [],
   "source": [
    "\"\"\"  \n",
    "Spin blocks 2-electron integrals\n",
    "Using np.kron, we project I and I tranpose into the space of the 2x2 ide\n",
    "The result is our 2-electron integral tensor in spin orbital notation\n",
    "\"\"\"\n",
    "function spin_block_tei(I)\n",
    "    identity = [ 1.0 0.0; 0.0 1.0]\n",
    "    I = np.kron(identity, I)\n",
    "    np.kron(identity, permutedims(I, reverse(1:4)))\n",
    "end\n",
    " \n",
    "I = np.asarray(mints.ao_eri())\n",
    "I_spinblock = spin_block_tei(I)\n",
    " \n",
    "# Convert chemist's notation to physicist's notation, and antisymmetrize\n",
    "# (pq | rs) ---> <pr | qs>\n",
    "# <pr||qs> = <pr | qs> - <pr | sq>\n",
    "gao = permutedims(I_spinblock, (1, 3, 2, 4)) - permutedims(I_spinblock, (1, 3, 4, 2));"
   ]
  },
  {
   "cell_type": "markdown",
   "metadata": {},
   "source": [
    "We get the orbital energies from alpha and beta electrons and append them together. We spin-block the coefficients obtained from the reference wavefunction and convert them into NumPy arrays. There is a set corresponding to coefficients from alpha electrons and a set of coefficients from beta electrons. We then sort them according to the order of the orbital energies using argsort():"
   ]
  },
  {
   "cell_type": "code",
   "execution_count": 7,
   "metadata": {},
   "outputs": [],
   "source": [
    "# Get orbital energies, cast into NumPy array, and extend eigenvalues\n",
    "eps_a = np.asarray(scf_wfn.epsilon_a())\n",
    "eps_b = np.asarray(scf_wfn.epsilon_b())\n",
    "eps = vcat(eps_a, eps_b)\n",
    "\n",
    "# Get coefficients, block, and sort\n",
    "Ca = np.asarray(scf_wfn.Ca())\n",
    "Cb = np.asarray(scf_wfn.Cb())\n",
    "C = [Ca zero(Ca); zero(Cb) Cb]; # direct sum\n",
    "\n",
    "# Sort the columns of C according to the order of orbital energies\n",
    "C = C[:, sortperm(eps)] \n",
    "\n",
    "# Sort orbital energies\n",
    "sort!(eps);"
   ]
  },
  {
   "cell_type": "markdown",
   "metadata": {},
   "source": [
    "We now transform the 2-electron integral from the AO basis into the MO basis using the coefficients:\n"
   ]
  },
  {
   "cell_type": "code",
   "execution_count": 8,
   "metadata": {},
   "outputs": [],
   "source": [
    "# Transform gao, which is the spin-blocked 4d array of physicist's notation,\n",
    "# antisymmetric two-electron integrals, into the MO basis using MO coefficients\n",
    "gmo = @tensor begin\n",
    "   gmo[P,Q,R,S] := gao[p,Q,R,S] * C[p,P]\n",
    "   gmo[p,Q,R,S] := gmo[p,q,R,S] * C[q,Q]\n",
    "   gmo[p,q,R,S] := gmo[p,q,r,S] * C[r,R]\n",
    "   gmo[p,q,r,S] := gmo[p,q,r,s] * C[s,S]\n",
    "end\n",
    "nothing"
   ]
  },
  {
   "cell_type": "markdown",
   "metadata": {},
   "source": [
    "Now that we have our integrals, coefficents, and orbital energies set up in with spin orbitals, we can start our CIS procedure. We first start by initializing the shifted Hamiltonion matrix $\\tilde{\\textbf{H}}$ (`HCIS`). Let's think about the size of $\\tilde{\\textbf{H}}$. We need all possible single excitations from the occupied to virtual orbitals. This is given by the number of occupied orbitals times the number of virtual orbitals  (`nocc * nvirt`).\n",
    "\n",
    "The size of our matrix is thus `nocc * nvirt` by `nocc * nvirt`. "
   ]
  },
  {
   "cell_type": "code",
   "execution_count": 9,
   "metadata": {},
   "outputs": [],
   "source": [
    "# Initialize CIS matrix.\n",
    "# The dimensions are the number of possible single excitations\n",
    "HCIS = zeros(nocc * nvirt, nocc * nvirt);"
   ]
  },
  {
   "cell_type": "markdown",
   "metadata": {},
   "source": [
    "Next, we want to build all possible excitations from occupied to virtual orbitals. We create two for-loops that will loop over the number of occupied orbitals and number of virtual orbitals, respectively, and store the combination of occupied and virtual indices as a tuple `(i, a)`. We put all tuples in a list called `excitations`. "
   ]
  },
  {
   "cell_type": "code",
   "execution_count": 10,
   "metadata": {},
   "outputs": [],
   "source": [
    "# Build the possible excitations, collect indices into a list\n",
    "excitations = []\n",
    "for i in 1:nocc, a in nocc+1:nso\n",
    "    push!(excitations,(i, a))\n",
    "end"
   ]
  },
  {
   "cell_type": "markdown",
   "metadata": {},
   "source": [
    "Now we can evaluate the matrix elements of the shifted CIS Hamiltonian matrix using the equation given above. For each element, there are several layers of indexing that we have to consider. \n",
    "First, there are the indices of the element itself, which gives the position of the element in the matrix. Indices `p` and `q` are used:\n",
    "\n",
    "`HCIS[p, q]`\n",
    "\n",
    "Second, there are two sets of excitations from occupied to virtual orbitals corresponding to the bra and ket of each matrix element. For these, we will take advantage of the `excitations` list that we build with the list of all possible excitations. We will use indices `i` and `a` to denote the excitation in the bra (`left_excitation`) and `j` and `b` to denote the excitation in the ket (`right_excitation`). \n",
    "\n",
    "To manage these indices, we will use the `enumerate` function.\n",
    "\n",
    "Note that a Kronecker delta $\\delta_{pq}$ can be represented as `p == q`. \n"
   ]
  },
  {
   "cell_type": "code",
   "execution_count": 11,
   "metadata": {},
   "outputs": [],
   "source": [
    "# Form matrix elements of shifted CIS Hamiltonian\n",
    "for (p, left_excitation) in enumerate(excitations)\n",
    "    i, a = left_excitation\n",
    "    for (q, right_excitation) in enumerate(excitations)\n",
    "        j, b = right_excitation\n",
    "        HCIS[p, q] = (eps[a] - eps[i]) * (i == j) * (a == b) + gmo[a, j, i, b]\n",
    "    end\n",
    "end"
   ]
  },
  {
   "cell_type": "markdown",
   "metadata": {},
   "source": [
    "We now use the composed function `eigen ∘ Hermitian` (for hermitian matrices) to diagonalize the shifted CIS Hamiltonian. This will give us the excitation energies (`ECIS`). These eigenvalues correspond to the CIS total energies for various excited states. The columns of matrix `CCIS` give us the coefficients which describe the relative contribution of each singly excited determinant to the excitation energy. \n"
   ]
  },
  {
   "cell_type": "code",
   "execution_count": 12,
   "metadata": {},
   "outputs": [],
   "source": [
    "# Diagonalize the shifted CIS Hamiltonian\n",
    "using LinearAlgebra: eigen, Hermitian\n",
    "\n",
    "ECIS, CCIS = (eigen ∘ Hermitian)(HCIS) ;"
   ]
  },
  {
   "cell_type": "markdown",
   "metadata": {},
   "source": [
    "For a given excitation energy, each coefficent in the linear combination of excitations represents the amount that a particular excitation contributes to the overall excitation energy. The percentage contribution of each coefficient can be calculated by squaring the coefficent and multiplying by 100. "
   ]
  },
  {
   "cell_type": "code",
   "execution_count": 13,
   "metadata": {},
   "outputs": [],
   "source": [
    "# Percentage contributions for each state vector\n",
    "percent_contrib = @. round(CCIS^2 * 100);"
   ]
  },
  {
   "cell_type": "markdown",
   "metadata": {},
   "source": [
    "In addition to excitation energies, we want to print the excitations that contribute 10% or more to the overall energy, as well as their percent contribution. \n",
    "\n",
    "Note that `printfmt` allows us to print different sections to the same line without a line break."
   ]
  },
  {
   "cell_type": "code",
   "execution_count": 14,
   "metadata": {},
   "outputs": [
    {
     "name": "stdout",
     "output_type": "stream",
     "text": [
      "CIS:\n",
      "State   1 Energy (Eh)  0.2872554   50%  9 -> 12   49% 10 -> 11 \n",
      "State   2 Energy (Eh)  0.2872554   49%  9 -> 12   46% 10 -> 11 \n",
      "State   3 Energy (Eh)  0.2872554   47%  9 -> 11   47% 10 -> 12 \n",
      "State   4 Energy (Eh)  0.3444249   73%  8 -> 11 \n",
      "State   5 Energy (Eh)  0.3444249   37%  7 -> 11   11%  8 -> 11   37%  8 -> 12 \n",
      "State   6 Energy (Eh)  0.3444249   77%  7 -> 12 \n",
      "State   7 Energy (Eh)  0.3564617   50%  9 -> 11   50% 10 -> 12 \n",
      "State   8 Energy (Eh)  0.3659889   59%  9 -> 14   41% 10 -> 13 \n",
      "State   9 Energy (Eh)  0.3659889   50%  9 -> 13   50% 10 -> 14 \n",
      "State  10 Energy (Eh)  0.3659889   41%  9 -> 14   59% 10 -> 13 \n",
      "State  11 Energy (Eh)  0.3945137   15%  5 -> 11   15%  6 -> 12   22%  7 -> 13   15%  8 -> 13   22%  8 -> 14 \n",
      "State  12 Energy (Eh)  0.3945137   30%  6 -> 11   43%  8 -> 13 \n",
      "State  13 Energy (Eh)  0.3945137   39%  5 -> 12   57%  7 -> 14 \n",
      "State  14 Energy (Eh)  0.4160717   50%  9 -> 13   50% 10 -> 14 \n",
      "State  15 Energy (Eh)  0.5056282   44%  7 -> 11   44%  8 -> 12 \n",
      "State  16 Energy (Eh)  0.5142899   20%  5 -> 12   37%  6 -> 11   14%  7 -> 14   26%  8 -> 13 \n",
      "State  17 Energy (Eh)  0.5142899   29%  5 -> 11   29%  6 -> 12   20%  7 -> 13   20%  8 -> 14 \n",
      "State  18 Energy (Eh)  0.5142899   37%  5 -> 12   20%  6 -> 11   26%  7 -> 14   14%  8 -> 13 \n",
      "State  19 Energy (Eh)  0.5551918   15%  5 -> 11   15%  6 -> 12   35%  7 -> 13   35%  8 -> 14 \n",
      "State  20 Energy (Eh)  0.5630557   87%  6 -> 13   11%  8 -> 11 \n",
      "State  21 Energy (Eh)  0.5630557   43%  5 -> 13   43%  6 -> 14 \n",
      "State  22 Energy (Eh)  0.5630557   86%  5 -> 14   11%  7 -> 12 \n",
      "State  23 Energy (Eh)  0.6553184   35%  5 -> 11   35%  6 -> 12   15%  7 -> 13   15%  8 -> 14 \n",
      "State  24 Energy (Eh)  0.9101216   43%  5 -> 13   43%  6 -> 14 \n",
      "State  25 Energy (Eh)  1.1087709   97%  4 -> 11 \n",
      "State  26 Energy (Eh)  1.1087709   48%  3 -> 11   48%  4 -> 12 \n",
      "State  27 Energy (Eh)  1.1087709   97%  3 -> 12 \n",
      "State  28 Energy (Eh)  1.2000960   97%  3 -> 14 \n",
      "State  29 Energy (Eh)  1.2000960   97%  4 -> 13 \n",
      "State  30 Energy (Eh)  1.2000960   49%  3 -> 13   49%  4 -> 14 \n",
      "State  31 Energy (Eh)  1.3007851   48%  3 -> 11   48%  4 -> 12 \n",
      "State  32 Energy (Eh)  1.3257620   50%  3 -> 13   50%  4 -> 14 \n",
      "State  33 Energy (Eh) 19.9585264  100%  1 -> 12 \n",
      "State  34 Energy (Eh) 19.9585264   50%  1 -> 11   50%  2 -> 12 \n",
      "State  35 Energy (Eh) 19.9585264  100%  2 -> 11 \n",
      "State  36 Energy (Eh) 20.0109794   50%  1 -> 11   50%  2 -> 12 \n",
      "State  37 Energy (Eh) 20.0113420  100%  1 -> 14 \n",
      "State  38 Energy (Eh) 20.0113420   50%  1 -> 13   50%  2 -> 14 \n",
      "State  39 Energy (Eh) 20.0113420  100%  2 -> 13 \n",
      "State  40 Energy (Eh) 20.0505319   50%  1 -> 13   50%  2 -> 14 \n"
     ]
    }
   ],
   "source": [
    "# Print detailed information on significant excitations\n",
    "using Formatting: printfmt\n",
    "println(\"CIS:\")\n",
    "for state in eachindex(ECIS)\n",
    "    # Print state, energy\n",
    "    printfmt(\"State {1:3d} Energy (Eh) {2:10.7f} \", state, ECIS[state])\n",
    "    for (idx, excitation) in enumerate(excitations)\n",
    "        if percent_contrib[idx, state] > 10\n",
    "            i, a = excitation\n",
    "            # Print percentage contribution and the excitation\n",
    "            printfmt(\"{1:4d}% {2:2d} -> {3:2d} \", percent_contrib[idx, state], i, a)\n",
    "        end\n",
    "    end\n",
    "    printfmt(\"\\n\")\n",
    "end"
   ]
  },
  {
   "cell_type": "markdown",
   "metadata": {},
   "source": [
    "## References\n",
    "1. Background paper:\n",
    " >\"Toward a systematic molecular orbital theory for excited states\"\n",
    "[[Foresman:1992:96](http://pubs.acs.org/doi/abs/10.1021/j100180a030)] J. B. Foresman, M. Head-Gordon, J. A. Pople, M. J. Frisch, *J. Phys. Chem.* **96**, 135 (1992).\n",
    "\n",
    "\n",
    "2. Algorithms from: \n",
    "\t> [[CCQC:CIS](https://github.com/CCQC/summer-program/tree/master/7)] CCQC Summer Program, \"CIS\" accessed with https://github.com/CCQC/summer-program/tree/master/7.\n",
    "    "
   ]
  }
 ],
 "metadata": {
  "jupytext": {
   "encoding": "# -*- coding: utf-8 -*-",
   "formats": "jl:light,ipynb"
  },
  "kernelspec": {
   "display_name": "Julia 1.4.2",
   "language": "julia",
   "name": "julia-1.4"
  },
  "language_info": {
   "file_extension": ".jl",
   "mimetype": "application/julia",
   "name": "julia",
   "version": "1.4.2"
  }
 },
 "nbformat": 4,
 "nbformat_minor": 4
}
