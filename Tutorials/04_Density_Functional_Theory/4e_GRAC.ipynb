{
 "cells": [
  {
   "cell_type": "markdown",
   "metadata": {},
   "source": [
    "# The gradient regularized asymptotic correction.\n",
    "## I. The ionization potenital issue\n",
    "\n",
    "Often with density functional theory one would like to do something interesting with the resulting wavefunction; however a number of issues exsist with conventional DFT computations.\n",
    "\n",
    "Let us first compute Ionization Potential at several different levels of the theory, and then compare the results to the NIST database (http://physics.nist.gov)."
   ]
  },
  {
   "cell_type": "code",
   "execution_count": 10,
   "metadata": {},
   "outputs": [
    {
     "data": {
      "text/plain": [
       "(-128.7034071556303, PyObject <psi4.core.CIWavefunction object at 0x152effe90>)"
      ]
     },
     "execution_count": 10,
     "metadata": {},
     "output_type": "execute_result"
    }
   ],
   "source": [
    "using PyCall: pyimport\n",
    "psi4 = pyimport(\"psi4\")\n",
    "np   = pyimport(\"numpy\") # used only to cast to Psi4 arrays\n",
    "using LinearAlgebra: dot\n",
    "import Formatting: printfmt\n",
    "include(\"ks_helper.jl\")\n",
    "import PyPlot: plt, matplotlib\n",
    "matplotlib.use(backend=\"MacOSX\")\n",
    "\n",
    "build_superfunctional = nothing\n",
    "if VersionNumber(psi4.__version__) >= v\"1.3a1\"\n",
    "    build_superfunctional = psi4.driver.dft.build_superfunctional\n",
    "else\n",
    "    build_superfunctional = psi4.driver.dft_funcs.build_superfunctional\n",
    "end\n",
    "\n",
    "mol = psi4.geometry(\"\"\"\n",
    "Ne\n",
    "symmetry c1\n",
    "\"\"\")\n",
    "options = (Dict(\"BASIS\" => \"aug-cc-pvdz\",\n",
    "                \"NAT_ORBS\" => true,\n",
    "                \"NUM_ROOTS\" => 2,\n",
    "                \"QC_MODULE\" => \"DETCI\",\n",
    "                \"DFT_SPHERICAL_POINTS\" => 110,\n",
    "                \"DFT_RADIAL_POINTS\" => 20))\n",
    "psi4.set_options(options)\n",
    "\n",
    "scf_e, scf_wfn = psi4.energy(\"SCF\",  return_wfn=true)\n",
    "scf_e, dft_wfn = psi4.energy(\"PBE0\", return_wfn=true)\n",
    "scf_e, ci_wfn =  psi4.energy(\"CISD\", return_wfn=true)"
   ]
  },
  {
   "cell_type": "markdown",
   "metadata": {},
   "source": [
    "Now that we have the wavefunctions we can compute the ionization potenital. For SCF theories this is the energy of the HOMO while for more advanced theories, it is the differente between the ground and excited states. We can obtain the IP for each level of theory in the following way:"
   ]
  },
  {
   "cell_type": "code",
   "execution_count": 2,
   "metadata": {},
   "outputs": [
    {
     "name": "stdout",
     "output_type": "stream",
     "text": [
      "Neon Ionization Potential (eV)\n",
      "SCF        23.2125\n",
      "PBE0       16.0362\n",
      "CISD       22.2776\n",
      "NIST       21.5645\n"
     ]
    }
   ],
   "source": [
    "scf_ip = -1 * scf_wfn.epsilon_a().np[scf_wfn.nalpha()] * psi4.constants.hartree2ev\n",
    "dft_ip = -1 * dft_wfn.epsilon_a().np[dft_wfn.nalpha()] * psi4.constants.hartree2ev\n",
    "ci_ip = -1 * (psi4.core.variable(\"CI ROOT 0 TOTAL ENERGY\") - \n",
    "              psi4.core.variable(\"CI ROOT 1 TOTAL ENERGY\")) * psi4.constants.hartree2ev\n",
    "\n",
    "println(\"Neon Ionization Potential (eV)\")\n",
    "printfmt(\"SCF     {:10.4f}\\n\", scf_ip)\n",
    "printfmt(\"PBE0    {:10.4f}\\n\", dft_ip)\n",
    "printfmt(\"CISD    {:10.4f}\\n\", ci_ip)\n",
    "printfmt(\"NIST    {:10.4f}\\n\", 21.5645)\n",
    "\n"
   ]
  },
  {
   "cell_type": "markdown",
   "metadata": {},
   "source": [
    "## I. Density shapes\n",
    "If we think carefully about the ionization potential and what this really means, it can be summed up susinctly as \"How hard is it for the electron to leave the system\" or \"How deep is our potenital well\"? A easy way to view the shape of the potenital for a given method is to inspect the density as a function of spatial extent. A weaker potential would mean that the density extends further than it should, and our IP would be too small. Whereas a stronger potenital would mean that the density is more concentrated and the IP is too large. As we only have a single atom we can project our density into a spatial grid and then sort the results as a function of distance from the nucleus. "
   ]
  },
  {
   "cell_type": "code",
   "execution_count": 3,
   "metadata": {},
   "outputs": [],
   "source": [
    "function one_electron_radial(matrices, Vpot)\n",
    "    \"\"\"\n",
    "    For every matrix in matrices, computes the radial density using the incoming Vpot object.\n",
    "    \"\"\"\n",
    "    \n",
    "    results = [[] for x in matrices]\n",
    "    Rlist = []\n",
    "    \n",
    "    points_func = Vpot.properties()[1]\n",
    "    superfunc = Vpot.functional()\n",
    "\n",
    "    xc_e = 0.0\n",
    "    vv10_e = 0.0\n",
    "    \n",
    "    # First loop over the outer set of blocks\n",
    "    for block in 1:Vpot.nblocks()\n",
    "        \n",
    "        # Obtain general grid information\n",
    "        grid = Vpot.get_block(block-1)\n",
    "        x = np.array(grid.x())\n",
    "        y = np.array(grid.y())\n",
    "        z = np.array(grid.z())\n",
    "        #npoints = z.shape[1]\n",
    "        npoints = size(z)[1]\n",
    "\n",
    "        # Get radial information\n",
    "        R = @. (x^2 + y^2 + z^2)^0.5\n",
    "        push!(Rlist,R)\n",
    "        \n",
    "        # Loop over and compute the density for each matrix\n",
    "        for (num, mat) in enumerate(matrices)\n",
    "            points_func.set_pointers(mat)\n",
    "            points_func.compute_points(grid)\n",
    "            push!(results[num], np.array(points_func.point_values()[\"RHO_A\"])[1:npoints])\n",
    "        end\n",
    "    end\n",
    "       \n",
    "    # Stack R\n",
    "    Rlist = np.hstack(Rlist)\n",
    "    \n",
    "    # Get the R unique and sort\n",
    "    unique, uidx = np.unique(Rlist, return_index=true)\n",
    "    Rlist = Rlist[uidx .+ 1]\n",
    "    \n",
    "    # Numpy is magic, it would be worthwhile to consider excatly what this does\n",
    "    results = [np.hstack(x)[uidx .+ 1] for x in results]\n",
    "\n",
    "    Rlist, results\n",
    "end\n",
    "\n",
    "# Compute the radial densities\n",
    "sup = build_superfunctional(\"SVWN\", true)[1]\n",
    "Vpot = psi4.core.VBase.build(scf_wfn.basisset(), sup, \"RV\")\n",
    "Vpot.initialize()\n",
    "\n",
    "R, data = one_electron_radial([scf_wfn.Da(), dft_wfn.Da(), ci_wfn.Da()], Vpot);"
   ]
  },
  {
   "cell_type": "markdown",
   "metadata": {},
   "source": [
    "Now that we have the radial densities, we build  a function that will plot the density as a ratio between\n",
    "the method and a benchmark. Here we will select the CISD densities as the benchmark and plot the SCF and DFT quantities against them."
   ]
  },
  {
   "cell_type": "code",
   "execution_count": 4,
   "metadata": {
    "lines_to_next_cell": 2
   },
   "outputs": [
    {
     "data": {
      "text/plain": [
       "plot_scatter_ratio (generic function with 1 method)"
      ]
     },
     "execution_count": 4,
     "metadata": {},
     "output_type": "execute_result"
    }
   ],
   "source": [
    "function plot_scatter_ratio(dictionary, bench, x_values)\n",
    "    fig1 = plt.figure()\n",
    "    ax1 = fig1.add_subplot(111)\n",
    "    for (k, v) in dictionary\n",
    "        ax1.plot(x_values, v ./ bench, label=k)\n",
    "    end\n",
    "        \n",
    "    ax1.legend(loc=\"upper left\")\n",
    "    ax1.set_xlim(0, 7)\n",
    "    ax1.set_xlabel(\"R\")\n",
    "    ax1.set_ylabel(raw\"ρ(r) / ρ(r)_bench\")\n",
    "    \n",
    "    plt.plot([0, 7], [1.0, 1.0], \"k-\")\n",
    "end"
   ]
  },
  {
   "cell_type": "markdown",
   "metadata": {},
   "source": [
    "Plotting this data we note that the SCF density falls off too rapidly, meaning that potential is too deep while the DFT density falls off far too slowly indicating the potenital is too shallow. For example many theories examine the overlap between densities. From this chart we can surmise issues that would arise with both DFT and HF theories."
   ]
  },
  {
   "cell_type": "code",
   "execution_count": 5,
   "metadata": {},
   "outputs": [
    {
     "data": {
      "image/png": "[encoded data removed]",
      "text/plain": [
       "PyPlot.Figure(PyObject <Figure size 640x480 with 1 Axes>)"
      ]
     },
     "metadata": {},
     "output_type": "display_data"
    },
    {
     "data": {
      "text/plain": [
       "1-element Array{PyCall.PyObject,1}:\n",
       " PyObject <matplotlib.lines.Line2D object at 0x14f0a4990>"
      ]
     },
     "execution_count": 5,
     "metadata": {},
     "output_type": "execute_result"
    }
   ],
   "source": [
    "data_dict = Dict(\"SCF\" => data[1], \"DFT\" => data[2])\n",
    "plot_scatter_ratio(data_dict, data[3], R)"
   ]
  },
  {
   "cell_type": "markdown",
   "metadata": {},
   "source": [
    "## 2. The GRAC Correction\n",
    "A question then arises: what if we could correct the DFT potential asymptote so that it recovers the correct density and therefore the correction ionization potenital? Effectively, we want to accomplish:\n",
    "\n",
    "$$v_{\\rm{xc}}({\\bf r}) = -\\frac{1}{r} + v_{\\rm{xc}}(\\infty).$$\n",
    "\n",
    "However, having a correct asympote would require knowledge of the exact $v_{\\rm{xc}}$ potential. As we operate completely in the Density Funcitonal Approximation domain, this is not a possible task. Instead, the GRAC correction requires that we know our Ionization Potential and we can replace the complex DFT term with the following:\n",
    "\n",
    "$$v_{\\rm{xc}}({\\bf r}) = -\\frac{1}{r} + (I_{\\bf P} + \\epsilon_N)$$\n",
    "\n",
    "Where $\\epsilon_N$ is our HOMO energy. This is quite clever as we now only need a functional that correctly goes to the $\\frac{1}{r}$ asymptotic. As no general functional accomplishes this task a special functional, \"LB94\", was built with exactly this property. The downside is that the characteristics of this functional are quite poor in the \"bulk\" region, or the region near the atom itself. To generalize this a switching function is introduced:\n",
    "\n",
    "$$\n",
    "\\begin{align}\n",
    "v_{\\rm{xc}}^{GRAC}(\\rho({\\bf r})) &= [1 - f[x({\\bf r})]]v_{\\rm{XC}}^{\\rm bulk}+ f[x({\\bf r})]v_{\\rm{XC}}^{\\rm Asym.}  \\\\ \\\\\n",
    "f[x({\\bf r})] &= \\frac{1}{1 + e^{-\\alpha[x({\\bf r}) - \\beta]}}\\\\\\\\\n",
    "x({\\bf r}) &= \\frac{| \\nabla \\rho({\\bf r}) | }{\\rho^\\frac{4}{3}({\\bf r})}\n",
    "\\end{align}\n",
    "$$\n",
    "\n",
    "\n",
    "We seamlessly switch between the bulk and asymptotic potenitals. In addition, such a formulation allows us to apply the GRAC correction to any underlying functional in a general way.\n"
   ]
  },
  {
   "cell_type": "code",
   "execution_count": 6,
   "metadata": {},
   "outputs": [
    {
     "name": "stdout",
     "output_type": "stream",
     "text": [
      "\n",
      "Number of occupied orbitals: 5\n",
      "Number of basis functions:   23\n",
      "\n",
      "Starting SCF iterations:\n",
      "\n",
      "    Iter            Energy             XC E         Delta E        D RMS\n",
      "\n",
      "SCF Iter  1: -122.77932612141758   -11.5580423   -1.22779E+02   1.55466E-01\n",
      "SCF Iter  2: -117.35576551166128    -6.4504083   5.42356E+00   1.89487E-01\n",
      "SCF Iter  3: -128.68766707945355    -9.7183972   -1.13319E+01   2.91504E-02\n",
      "SCF Iter  4: -128.80683742064261    -9.4890898   -1.19170E-01   1.05122E-02\n",
      "SCF Iter  5: -128.82176520990396    -9.3901802   -1.49278E-02   1.39167E-03\n",
      "SCF Iter  6: -128.82218546709356    -9.3740660   -4.20257E-04   3.33912E-05\n",
      "SCF Iter  7: -128.82219002585751    -9.3743046   -4.55876E-06   1.71356E-06\n",
      "SCF Iter  8: -128.82218988268602    -9.3743231   1.43171E-07   3.24981E-08\n",
      "\n",
      "Final SCF energy: -128.82218988 hartree \n"
     ]
    },
    {
     "data": {
      "text/plain": [
       "(-128.82218988268602, Dict{Any,Any}(\"eigenvalues\" => PyObject <psi4.core.Vector object at 0x15423d110>,\"Da\" => PyObject <psi4.core.Matrix object at 0x15423d290>,\"Ca\" => PyObject <psi4.core.Matrix object at 0x15423d170>))"
      ]
     },
     "execution_count": 6,
     "metadata": {},
     "output_type": "execute_result"
    }
   ],
   "source": [
    "# Build a LB 94 functional\n",
    "lb94_func = psi4.core.SuperFunctional.blank()\n",
    "lb94_func.set_max_points(500000)\n",
    "lb94_func.set_deriv(1)\n",
    "\n",
    "# Add member functionals\n",
    "tmp_func = psi4.core.LibXCFunctional(\"XC_GGA_X_LB\", true)\n",
    "# We need to scale this for the amount of exact exchange is in the functional\n",
    "tmp_func.set_alpha(0.75)\n",
    "lb94_func.add_x_functional(tmp_func)\n",
    "\n",
    "# Dont forget VWN correlation!\n",
    "tmp_func = psi4.core.LibXCFunctional(\"XC_LDA_C_VWN\", true)\n",
    "lb94_func.add_c_functional(tmp_func)\n",
    "\n",
    "# Allocate the functional\n",
    "lb94_func.allocate()\n",
    "\n",
    "grac_shift = (21.5645 - dft_ip) /  psi4.constants.hartree2ev\n",
    "\n",
    "\"\"\"\n",
    "Computes the XC energy and the V_xc Fock term\n",
    "\"\"\"\n",
    "function compute_V_GRAC(D, Vpot)\n",
    "    \n",
    "    grac_alpha = 0.5\n",
    "    grac_beta = 40.0\n",
    "\n",
    "    nbf = D.shape[1]\n",
    "    Varr = zeros(nbf, nbf)\n",
    "\n",
    "    points_func = Vpot.properties()[1]\n",
    "    superfunc = Vpot.functional()\n",
    "    \n",
    "    total_e = 0.0\n",
    "    \n",
    "    for x in 1:Vpot.nblocks()\n",
    "\n",
    "        # Grid data\n",
    "        grid = Vpot.get_block(x-1)\n",
    "        w = np.array(grid.w())\n",
    "        #npoints = w.shape[1]\n",
    "        npoints = size(w)[1]\n",
    "\n",
    "        points_func.compute_points(grid)\n",
    "        lpos = np.array(grid.functions_local_to_global()) .+ 1\n",
    "        #nfunctions = lpos.shape[1]\n",
    "        nfunctions = size(lpos)[1]\n",
    "        \n",
    "        phi = np.array(points_func.basis_values()[\"PHI\"])[1:npoints, 1:nfunctions]\n",
    "        \n",
    "        rho = np.array(points_func.point_values()[\"RHO_A\"])[1:npoints]\n",
    "        gamma = np.array(points_func.point_values()[\"GAMMA_AA\"])[1:npoints]\n",
    "\n",
    "        grac_x = @. (gamma^0.5) / (rho^(4.0/3.0))\n",
    "        #grac_fx = 1.0 ./ (1.0 .+ np.exp(-grac_alpha .* (grac_x .- grac_beta)))\n",
    "        grac_fx = @. 1.0 / (1.0 + np.exp(-grac_alpha * (grac_x - grac_beta)))\n",
    "        \n",
    "        ret = superfunc.compute_functional(points_func.point_values(), -1)\n",
    "        lbret = lb94_func.compute_functional(points_func.point_values(), -1)\n",
    "        \n",
    "        #total_e += np.vdot(np.array(ret[\"V\"])[1:npoints], w)\n",
    "        total_e += dot(np.array(ret[\"V\"])[1:npoints], w)\n",
    "        \n",
    "        v_rho_a  = @. ( 1 - grac_fx ) * (np.array(ret[\"V_RHO_A\"])[1:npoints] - grac_shift)\n",
    "        v_rho_a += @. grac_fx * np.array(lbret[\"V_RHO_A\"])[1:npoints]\n",
    "        v_rho_a .*= 0.5 .* w\n",
    "        \n",
    "        Vtmp = np.einsum(\"pb,p,pa->ab\", phi, v_rho_a, phi, optimize=true)\n",
    "\n",
    "        # GGA\n",
    "        rho_x = np.array(points_func.point_values()[\"RHO_AX\"])[1:npoints]\n",
    "        rho_y = np.array(points_func.point_values()[\"RHO_AY\"])[1:npoints]\n",
    "        rho_z = np.array(points_func.point_values()[\"RHO_AZ\"])[1:npoints]\n",
    "        \n",
    "        phi_x = np.array(points_func.basis_values()[\"PHI_X\"])[1:npoints, 1:nfunctions]\n",
    "        phi_y = np.array(points_func.basis_values()[\"PHI_Y\"])[1:npoints, 1:nfunctions]\n",
    "        phi_z = np.array(points_func.basis_values()[\"PHI_Z\"])[1:npoints, 1:nfunctions]\n",
    "        \n",
    "        v_gamma  = @. (1 - grac_fx) * np.array(ret[\"V_GAMMA_AA\"])[1:npoints]\n",
    "        v_gamma .*= 2.0 .* w\n",
    "        Vtmp += np.einsum(\"pb,p,p,pa->ab\", phi, v_gamma, rho_x, phi_x, optimize=true)\n",
    "        Vtmp += np.einsum(\"pb,p,p,pa->ab\", phi, v_gamma, rho_y, phi_y, optimize=true)\n",
    "        Vtmp += np.einsum(\"pb,p,p,pa->ab\", phi, v_gamma, rho_z, phi_z, optimize=true)\n",
    "\n",
    "        \n",
    "        #Varr[(lpos[:, None], lpos)] += Vtmp + Vtmp.T\n",
    "        Varr[lpos, lpos] += Vtmp + Vtmp'\n",
    "\n",
    "    end\n",
    "    total_e, Varr\n",
    "end\n",
    "\n",
    "# Test our function the the handy ks solver.\n",
    "grac_e, grac_data = ks_solver(\"PBE0\", mol, options, compute_V_GRAC)       "
   ]
  },
  {
   "cell_type": "markdown",
   "metadata": {},
   "source": [
    "We can now check against the Psi4 reference implementation. Note that we set the GRAC shift on either side of the computation so that we do not contaminate other computations."
   ]
  },
  {
   "cell_type": "code",
   "execution_count": 7,
   "metadata": {},
   "outputs": [
    {
     "name": "stdout",
     "output_type": "stream",
     "text": [
      "-128.82218989858404"
     ]
    }
   ],
   "source": [
    "psi4.set_options(Dict(\"dft_grac_shift\" => grac_shift))\n",
    "print(psi4.energy(\"PBE0\"))\n",
    "psi4.set_options(Dict(\"dft_grac_shift\" => 0.0))"
   ]
  },
  {
   "cell_type": "markdown",
   "metadata": {},
   "source": [
    "## 3. Inspecting the outcome\n",
    "Now that we applied the GRAC shift we can observe the density and see how well we do."
   ]
  },
  {
   "cell_type": "code",
   "execution_count": 8,
   "metadata": {},
   "outputs": [
    {
     "name": "stdout",
     "output_type": "stream",
     "text": [
      "Neon Ionization Potential (eV)\n",
      "SCF        23.2125\n",
      "PBE0       16.0362\n",
      "PBE0-AC    21.4275\n",
      "CISD       22.2776\n",
      "NIST       21.5645\n"
     ]
    }
   ],
   "source": [
    "#grac_ip = -1 * grac_data[\"eigenvalues\"].np[dft_wfn.nalpha()-1] * psi4.constants.hartree2ev\n",
    "grac_ip = -1 * grac_data[\"eigenvalues\"].np[dft_wfn.nalpha()] * psi4.constants.hartree2ev\n",
    "\n",
    "println(\"Neon Ionization Potential (eV)\")\n",
    "printfmt(\"SCF     {:10.4f}\\n\", scf_ip)\n",
    "printfmt(\"PBE0    {:10.4f}\\n\", dft_ip)\n",
    "printfmt(\"PBE0-AC {:10.4f}\\n\", grac_ip)\n",
    "printfmt(\"CISD    {:10.4f}\\n\", ci_ip)\n",
    "printfmt(\"NIST    {:10.4f}\\n\", 21.5645)"
   ]
  },
  {
   "cell_type": "markdown",
   "metadata": {},
   "source": [
    "We observe that our ionization potenital is now much closer to the correct ionization potenital and while the density is not perfect, it is much closer to the CISD density."
   ]
  },
  {
   "cell_type": "code",
   "execution_count": 9,
   "metadata": {},
   "outputs": [
    {
     "data": {
      "image/png": "[encoded data removed]",
      "text/plain": [
       "PyPlot.Figure(PyObject <Figure size 640x480 with 1 Axes>)"
      ]
     },
     "metadata": {},
     "output_type": "display_data"
    },
    {
     "data": {
      "text/plain": [
       "1-element Array{PyCall.PyObject,1}:\n",
       " PyObject <matplotlib.lines.Line2D object at 0x1542affd0>"
      ]
     },
     "execution_count": 9,
     "metadata": {},
     "output_type": "execute_result"
    }
   ],
   "source": [
    "R, data = one_electron_radial([scf_wfn.Da(), dft_wfn.Da(), grac_data[\"Da\"], ci_wfn.Da()], Vpot)\n",
    "data_dict = Dict(\"SCF\"=> data[1], \"DFT\"=> data[2], \"DFT-AC\"=> data[3])\n",
    "plot_scatter_ratio(data_dict, data[4], R)"
   ]
  },
  {
   "cell_type": "markdown",
   "metadata": {},
   "source": [
    "Refs:\n",
    " - M. Gruning, O. V. Gritsenko, S. J. A. van Gisbergen, and E. J. BaerendsJ. Chem. Phys., **2001**, *114*, 652"
   ]
  }
 ],
 "metadata": {
  "jupytext": {
   "encoding": "# -*- coding: utf-8 -*-",
   "formats": "jl:light,ipynb"
  },
  "kernelspec": {
   "display_name": "Julia 1.4.2",
   "language": "julia",
   "name": "julia-1.4"
  },
  "language_info": {
   "file_extension": ".jl",
   "mimetype": "application/julia",
   "name": "julia",
   "version": "1.4.2"
  }
 },
 "nbformat": 4,
 "nbformat_minor": 4
}
