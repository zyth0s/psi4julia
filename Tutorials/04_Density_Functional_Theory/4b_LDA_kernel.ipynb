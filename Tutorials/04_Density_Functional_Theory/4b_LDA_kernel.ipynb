{
 "cells": [
  {
   "cell_type": "markdown",
   "metadata": {},
   "source": [
    "# DFT: The LDA kernel\n",
    "## I. Theory\n",
    "\n",
    "Previously we described the DFT Fock matrix as\n",
    "$$F^{DFT}_{\\mu\\nu} = H_{\\mu\\nu} + 2J[D]_{\\mu\\nu} - \\zeta K[D]_{\\mu\\nu} + V^{\\rm{xc}}_{\\mu\\nu}$$\n",
    "upon examination it is revealed that the only quantity that we cannot yet compute is $V^{\\rm{xc}}$. \n",
    "\n",
    "Here we will explore the local density approximation (LDA) functionals where $V^{\\rm{xc}} = f[\\rho(\\hat{r})]$. For these functionals the only required bit of information is the density at the grid point. As we discussed the grid last chapter we will now focus exactly on how to obtain the density on the grid.\n",
    "\n",
    "Before we begin we should first recall that the Fock matrix is the derivative of the energy with respect to atomic orbitals. Therefore, the $V^{\\rm{xc}}$ matrix is not the XC energy, but the derivate of that energy, which can expressed as $\\frac{\\partial e_{\\rm{xc}}}{\\partial\\rho}$. "
   ]
  },
  {
   "cell_type": "code",
   "execution_count": 1,
   "metadata": {},
   "outputs": [
    {
     "data": {
      "text/plain": [
       "PyObject <psi4.core.VBase object at 0x14a0ef6b0>"
      ]
     },
     "execution_count": 1,
     "metadata": {},
     "output_type": "execute_result"
    }
   ],
   "source": [
    "using PyCall: pyimport\n",
    "psi4 = pyimport(\"psi4\")\n",
    "np   = pyimport(\"numpy\") # used only to cast to Julia Arrays\n",
    "\n",
    "mol = psi4.geometry(\"\"\"\n",
    "He\n",
    "symmetry c1\n",
    "\"\"\")\n",
    "psi4.set_options(Dict(\"BASIS\" => \"cc-pvdz\",\n",
    "                      \"DFT_SPHERICAL_POINTS\" => 6,\n",
    "                      \"DFT_RADIAL_POINTS\" => 5))\n",
    "\n",
    "psi4.core.set_output_file(\"output.dat\", false)\n",
    "\n",
    "svwn_w, wfn = psi4.energy(\"SVWN\", return_wfn=true)\n",
    "Vpot = wfn.V_potential()"
   ]
  },
  {
   "cell_type": "markdown",
   "metadata": {},
   "source": [
    "## 2. Density on a Grid\n",
    "The density on the grid can be expressed as\n",
    "$$\\rho(\\hat{r}) = \\sum\\limits_{\\mu\\nu} D_{\\mu\\nu}\\;\\phi_\\mu(\\hat{r})\\phi_\\nu(\\hat{r})$$\n",
    "\n",
    "Recall that we compute DFT quanties on a grid, so $\\hat{r}$ will run over a grid instead of all space. Using this we can build collocation matrices that map between atomic orbital and grid space $$\\phi_\\mu(\\hat{r}) \\rightarrow \\phi_\\mu^p$$\n",
    "where our $p$ index will be the index of individual grid points. Our full expression becomes:\n",
    "\n",
    "$$\\rho_p = \\phi_\\mu^p D_{\\mu\\nu} \\phi_\\nu^p$$\n",
    "\n",
    "To compute these quantities let us first remember that the DFT grid is blocked loosely over atoms. It should now be apparent to why we do this, consider the $\\phi_\\mu^p$ objects. The total size of this object would be `nbf` $\\times$ `npoints`. To put this in perspective a moderate size molecule could have 1e4 basis functions and 1e8 grid points, so about 8 terabytes of data! As this object is very sparse it is much more convenient to store the grid and compute $\\phi\\mu^p$ matrices on the fly. \n",
    "\n",
    "We then need object to compute $\\phi_\\mu^p$. "
   ]
  },
  {
   "cell_type": "code",
   "execution_count": 2,
   "metadata": {},
   "outputs": [
    {
     "data": {
      "text/plain": [
       "5-element Array{Int64,1}:\n",
       " 1\n",
       " 2\n",
       " 3\n",
       " 4\n",
       " 5"
      ]
     },
     "metadata": {},
     "output_type": "display_data"
    },
    {
     "name": "stdout",
     "output_type": "stream",
     "text": [
      "Local basis function mapping\n"
     ]
    },
    {
     "data": {
      "text/plain": [
       "25×5 Array{Float64,2}:\n",
       " 1.22732e-18  1.59271e-5   0.0          6.46773e-18   0.0\n",
       " 1.22732e-18  1.59271e-5   0.0          0.0           6.46773e-18\n",
       " 1.22732e-18  1.59271e-5   0.0          0.0          -6.46773e-18\n",
       " 1.22732e-18  1.59271e-5   6.46773e-18  0.0           0.0\n",
       " 1.22732e-18  1.59271e-5  -6.46773e-18  0.0           0.0\n",
       " 0.000171235  0.0395228    0.0          0.0010179     0.0\n",
       " 0.000171235  0.0395228    0.0          0.0           0.0010179\n",
       " 0.000171235  0.0395228    0.0          0.0          -0.0010179\n",
       " 0.000171235  0.0395228    0.0010179    0.0           0.0\n",
       " 0.000171235  0.0395228   -0.0010179    0.0           0.0\n",
       " 0.188418     0.211723     0.0          0.529558      0.0\n",
       " 0.188418     0.211723     0.0          0.0           0.529558\n",
       " 0.188418     0.211723     0.0          0.0          -0.529558\n",
       " 0.188418     0.211723     0.529558     0.0           0.0\n",
       " 0.188418     0.211723    -0.529558     0.0           0.0\n",
       " 1.07233      0.280679     0.0          0.485241      0.0\n",
       " 1.07233      0.280679     0.0          0.0           0.485241\n",
       " 1.07233      0.280679     0.0          0.0          -0.485241\n",
       " 1.07233      0.280679     0.485241     0.0           0.0\n",
       " 1.07233      0.280679    -0.485241     0.0           0.0\n",
       " 1.77933      0.287089     0.0          0.0584587     0.0\n",
       " 1.77933      0.287089     0.0          0.0           0.0584587\n",
       " 1.77933      0.287089     0.0          0.0          -0.0584587\n",
       " 1.77933      0.287089     0.0584587    0.0           0.0\n",
       " 1.77933      0.287089    -0.0584587    0.0           0.0"
      ]
     },
     "metadata": {},
     "output_type": "display_data"
    },
    {
     "name": "stdout",
     "output_type": "stream",
     "text": [
      "\n",
      "Phi Matrix\n"
     ]
    }
   ],
   "source": [
    "# Grab a \"points function\" to compute the Phi matrices\n",
    "points_func = Vpot.properties()[1]\n",
    "\n",
    "# Grab a block and obtain its local mapping\n",
    "block = Vpot.get_block(1)\n",
    "npoints = block.npoints()\n",
    "lpos = np.array(block.functions_local_to_global()) .+ 1\n",
    "println(\"Local basis function mapping\")\n",
    "display(lpos)\n",
    "\n",
    "# Copmute phi, note the number of points and function per phi changes.\n",
    "phi = np.array(points_func.basis_values()[\"PHI\"])[1:npoints, 1:size(lpos)[1]]\n",
    "println(\"\\nPhi Matrix\")\n",
    "display(phi)"
   ]
  },
  {
   "cell_type": "markdown",
   "metadata": {},
   "source": [
    "## 3. Evaluating the kernel\n",
    "\n",
    "After building the density on the grid we can then compute the exchange-correlation $f_{xc}$ at every gridpoint. This then need to be reintegrated back to atomic orbital space which can be accomplished like so:\n",
    "\n",
    "$$V^{\\rm{xc}}_{pq}[D_{pq}] = \\phi_\\mu^a\\;\\phi_\\nu^a\\;\\; w^a\\;f^a_{\\rm{xc}}{(\\phi_\\mu^p D_{\\mu\\nu} \\phi_\\nu^p)}$$\n",
    "\n",
    "Where $w^a$ is our combined Truetler and Lebedev weight at every point.\n",
    "\n",
    "Unlike SCF theory where the SCF energy can be computed as the sum of the Fock and Density matrices the energy for XC kernels must be computed in grid space. Fortunately, the energy is simply defined as:\n",
    "\n",
    "$$e_{\\rm{xc}} = w^a f^a_{\\rm{xc}}$$\n",
    "\n",
    "We can now put all the pieces together to compute $e_{\\rm{xc}}$ and $\\frac{\\partial E_{\\rm{xc}}}{\\partial\\rho}= V^{\\rm{xc}}$."
   ]
  },
  {
   "cell_type": "code",
   "execution_count": 4,
   "metadata": {},
   "outputs": [
    {
     "data": {
      "text/plain": [
       "25-element Array{Float64,1}:\n",
       " -6.519167903047856e-11\n",
       " -6.519167903047856e-11\n",
       " -6.519167903047856e-11\n",
       " -6.519167903047856e-11\n",
       " -6.519167903047856e-11\n",
       " -0.003017677991539832\n",
       " -0.003017677991539832\n",
       " -0.003017677991539832\n",
       " -0.003017677991539832\n",
       " -0.003017677991539832\n",
       " -0.09338029347594821\n",
       " -0.09338029347594819\n",
       " -0.09338029347594819\n",
       " -0.09338029347594823\n",
       " -0.09338029347594817\n",
       " -0.07147329076318813\n",
       " -0.07147329076318813\n",
       " -0.07147329076318813\n",
       " -0.07147329076318813\n",
       " -0.07147329076318813\n",
       " -0.0005738633785625028\n",
       " -0.0005738633785625028\n",
       " -0.0005738633785625028\n",
       " -0.0005738633785625028\n",
       " -0.0005738633785625028"
      ]
     },
     "metadata": {},
     "output_type": "display_data"
    },
    {
     "name": "stdout",
     "output_type": "stream",
     "text": [
      "XC Energy: \n"
     ]
    },
    {
     "data": {
      "text/plain": [
       "5×5 Array{Float64,2}:\n",
       " -0.826222     -0.443305     -2.80973e-17   0.0       -8.30684e-18\n",
       " -0.443305     -0.410914     -2.96189e-17   0.0       -8.07065e-18\n",
       " -2.80973e-17  -2.96189e-17  -0.732703      0.0        0.0\n",
       "  0.0           0.0           0.0          -0.732703   0.0\n",
       " -8.30684e-18  -8.07065e-18   0.0           0.0       -0.732703"
      ]
     },
     "metadata": {},
     "output_type": "display_data"
    },
    {
     "name": "stdout",
     "output_type": "stream",
     "text": [
      "V matrix:\n",
      "\n",
      "Matches Psi4 V: true\n"
     ]
    }
   ],
   "source": [
    "D = np.array(wfn.Da())\n",
    "\n",
    "V = zero(D)\n",
    "\n",
    "rho = []\n",
    "points_func = Vpot.properties()[1]\n",
    "superfunc = Vpot.functional()\n",
    "\n",
    "xc_e, V = let xc_e = 0.0, rho = rho\n",
    "   # Loop over the blocks\n",
    "   for b in 1:Vpot.nblocks()\n",
    "       \n",
    "       # Obtain block information\n",
    "       block = Vpot.get_block(b-1)\n",
    "       points_func.compute_points(block)\n",
    "       npoints = block.npoints()\n",
    "       lpos = np.array(block.functions_local_to_global()) .+ 1\n",
    "       \n",
    "       # Obtain the grid weight\n",
    "       w = np.array(block.w())\n",
    "\n",
    "       # Compute ϕᴾμ!\n",
    "       phi = np.array(points_func.basis_values()[\"PHI\"])[1:npoints, 1:size(lpos)[1]]\n",
    "       \n",
    "       # Build a local slice of D\n",
    "       lD = D[lpos,lpos]\n",
    "       \n",
    "       # Copmute ρ\n",
    "       # ρᴾ = ϕᴾμ Dμν ϕᴾν\n",
    "       rho = 2vec(sum( (phi * lD) .* phi, dims=2))\n",
    "\n",
    "       inp = Dict()\n",
    "       inp[\"RHO_A\"] = psi4.core.Vector.from_array(rho)\n",
    "       \n",
    "       # Compute the kernel\n",
    "       ret = superfunc.compute_functional(inp, -1)\n",
    "       \n",
    "       # Compute the XC energy\n",
    "       vk = np.array(ret[\"V\"])[1:npoints]\n",
    "       xc_e = w .* vk\n",
    "           \n",
    "       # Compute the XC derivative.\n",
    "       v_rho_a = np.array(ret[\"V_RHO_A\"])[1:npoints]\n",
    "       # Vab = ϕᴾ_b Vᴾ Wᴾ ϕᴾ_a\n",
    "       Vtmp = phi' * (v_rho_a .* w .* phi)\n",
    "\n",
    "       # Add the temporary back to the larger array by indexing, ensure it is symmetric\n",
    "       V[lpos, lpos] += 0.5(Vtmp + Vtmp')\n",
    "   end\n",
    "   xc_e, V\n",
    "end\n",
    "\n",
    "\n",
    "println(\"XC Energy: \")\n",
    "display(xc_e)\n",
    "println(\"V matrix:\")\n",
    "display(V)\n",
    "\n",
    "println(\"\\nMatches Psi4 V: \", np.allclose(V, wfn.Va()))"
   ]
  },
  {
   "cell_type": "markdown",
   "metadata": {},
   "source": [
    "Refs:\n",
    "- Johnson, B. G.; Fisch M. J.; *J. Chem. Phys.*, **1994**, *100*, 7429"
   ]
  }
 ],
 "metadata": {
  "jupytext": {
   "formats": "jl:light,ipynb"
  },
  "kernelspec": {
   "display_name": "Julia 1.4.2",
   "language": "julia",
   "name": "julia-1.4"
  },
  "language_info": {
   "file_extension": ".jl",
   "mimetype": "application/julia",
   "name": "julia",
   "version": "1.4.2"
  }
 },
 "nbformat": 4,
 "nbformat_minor": 4
}
