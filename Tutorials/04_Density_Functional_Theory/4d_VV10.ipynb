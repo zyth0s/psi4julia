{
 "cells": [
  {
   "cell_type": "markdown",
   "metadata": {},
   "source": [
    "# VV10 Non-local correlation kernel\n",
    "One of the largest deficiencies of semilocal functionals is the lack of long-range correlation effects. The most notable effect is the lack of dispersion in the interactions between molecules. VV10 was expressly created to bridge the gap between the expensive true non-local correlation and a computational tractable form. We will begin by writing the overall expression:\n",
    "\n",
    "$$E_c^{\\rm{nl}} = \\frac{1}{2}\\int \\int d{\\bf r}d{\\bf r'}\\rho({\\bf r})\\Phi({\\bf r},{\\bf r'})\\rho({\\bf r'}),$$\n",
    "\n",
    "where the two densities are tied together through the $\\Phi$ operator.\n",
    "\n",
    "For VV10 we have:\n",
    "$$\n",
    "\\begin{align}\n",
    "\\Phi &= -\\frac{3}{2gg'(g + g')},\\\\\n",
    " g &= \\omega_0({\\rm r}) R^2 + \\kappa({\\rm r)},\\\\\n",
    " g' &= \\omega_0({\\rm r}) R^2 + \\kappa({\\rm r')},\n",
    "\\end{align}\n",
    "$$\n",
    "\n",
    "where $\\omega_{0}$:\n",
    "\n",
    "$$\n",
    "\\begin{align}\n",
    "\\omega_{0}(r) &= \\sqrt{\\omega_{g}^2(r) + \\frac{\\omega_p^2(r)}{3}} \\\\\n",
    "\\omega_g^2(r) &= C \\left | \\frac{\\nabla \\rho({\\bf r})}{\\rho({\\bf r})} \\right |^4 \\\\\n",
    "\\omega_p^2(r) &= 4 \\pi \\rho({\\bf r}),\n",
    "\\end{align}\n",
    "$$\n",
    "\n",
    "and finally:\n",
    "\n",
    "$$\\kappa({\\bf r}) = b * \\frac{3 \\pi}{2} \\left [ \\frac{\\rho({\\bf r})}{9\\pi} \\right ]^\\frac{1}{6}.$$\n",
    "\n",
    "While there are several expressions, this is actually relatively easy to compute. First let us examine how the VV10 energy is reintegrated:\n",
    "\n",
    "$$E_c^{\\rm{VV10}} = \\int d{\\bf r} \\rho{\\bf r} \\left [ \\beta + \\frac{1}{2}\\int d{\\bf r'} \\rho{\\bf r'} \\Phi({\\bf r},{\\bf r'}) \\right].$$\n",
    "\n"
   ]
  },
  {
   "cell_type": "code",
   "execution_count": 1,
   "metadata": {},
   "outputs": [
    {
     "data": {
      "text/plain": [
       "Dict{String,Any} with 3 entries:\n",
       "  \"BASIS\"                => \"aug-cc-pvdz\"\n",
       "  \"DFT_SPHERICAL_POINTS\" => 110\n",
       "  \"DFT_RADIAL_POINTS\"    => 20"
      ]
     },
     "execution_count": 1,
     "metadata": {},
     "output_type": "execute_result"
    }
   ],
   "source": [
    "using PyCall: pyimport\n",
    "psi4 = pyimport(\"psi4\")\n",
    "np   = pyimport(\"numpy\") # used only to cast to Psi4 arrays\n",
    "using LinearAlgebra: dot\n",
    "import Formatting: printfmt\n",
    "include(\"ks_helper.jl\")\n",
    "\n",
    "mol = psi4.geometry(\"\"\"\n",
    "He 0 0 -5\n",
    "He 0 0  5\n",
    "symmetry c1\n",
    "\"\"\")\n",
    "options = (Dict(\"BASIS\" => \"aug-cc-pvdz\",\n",
    "                \"DFT_SPHERICAL_POINTS\" => 110,\n",
    "                \"DFT_RADIAL_POINTS\" => 20))"
   ]
  },
  {
   "cell_type": "markdown",
   "metadata": {},
   "source": [
    "## VV10 coefficients\n",
    "First let us build set and build a few static coefficients:"
   ]
  },
  {
   "cell_type": "code",
   "execution_count": 2,
   "metadata": {
    "lines_to_next_cell": 2
   },
   "outputs": [
    {
     "data": {
      "text/plain": [
       "0.0049706472663956095"
      ]
     },
     "execution_count": 2,
     "metadata": {},
     "output_type": "execute_result"
    }
   ],
   "source": [
    "coef_C = 0.0093\n",
    "coef_B = 5.9\n",
    "β = 1.0 / 32.0 * (3.0 / (coef_B^2.0))^(3.0 / 4.0)"
   ]
  },
  {
   "cell_type": "markdown",
   "metadata": {},
   "source": [
    "## VV10 kernel\n",
    "First let us construct a function that computes $\\omega_0$, and $\\kappa$ quantities. We simplify the following piece contained in $\\omega_g$:\n",
    "$$\\left |\\frac{\\nabla \\rho({\\bf r})}{\\rho({\\bf r})} \\right|^4$$\n",
    "\n",
    "by recalling that \n",
    "\n",
    "$$\\gamma({\\bf r}) = \\nabla\\rho({\\bf r})\\cdot\\nabla\\rho({\\bf r}),$$\n",
    "\n",
    "therefore, we can simplify the above to:\n",
    "\n",
    "$$\\left |\\frac{\\nabla \\rho({\\bf r})}{\\rho({\\bf r})} \\right |^4 = \\left | \\frac{\\gamma({\\bf r})}{\\rho({\\bf r})\\cdot \\rho({\\bf r})} \\right | ^2 $$"
   ]
  },
  {
   "cell_type": "code",
   "execution_count": 3,
   "metadata": {
    "lines_to_next_cell": 2
   },
   "outputs": [
    {
     "data": {
      "text/plain": [
       "compute_vv10_kernel (generic function with 1 method)"
      ]
     },
     "execution_count": 3,
     "metadata": {},
     "output_type": "execute_result"
    }
   ],
   "source": [
    "function compute_vv10_kernel(ρ, γ)\n",
    "    κ_pref = coef_B * (1.5 * π) / ((9.0 * π)^(1.0 / 6.0))\n",
    "    \n",
    "    # Compute R quantities\n",
    "    Wp = (4.0 / 3.0) * π * ρ\n",
    "    Wg = @. coef_C * ((γ / (ρ * ρ))^2.0)\n",
    "    W0 = @. sqrt(Wg + Wp)\n",
    "    \n",
    "    κ = @. ρ^(1.0 / 6.0) * κ_pref\n",
    "\n",
    "    W0, κ\n",
    "end"
   ]
  },
  {
   "cell_type": "markdown",
   "metadata": {},
   "source": [
    "## VV10 energy and gradient evaluation\n",
    "\n",
    "The next block of code computes the VV10 energy and its gradient. In the very end we plug this function in\n",
    "the Khon-Sham solver `ks_solver` that is in a separate file `ks_helper.jl`. We conveniently separated the solver to focus in the non-local kernel."
   ]
  },
  {
   "cell_type": "code",
   "execution_count": 4,
   "metadata": {},
   "outputs": [
    {
     "name": "stdout",
     "output_type": "stream",
     "text": [
      "\n",
      "Number of occupied orbitals: 2\n",
      "Number of basis functions:   18\n",
      "\n",
      "Starting SCF iterations:\n",
      "\n",
      "    Iter            Energy             XC E         Delta E        D RMS\n",
      "\n",
      "   VV10 NL energy:       0.01904486\n",
      "SCF Iter  1:  -5.58360292280092    -2.5904636   -5.58360E+00   3.85770E-02\n",
      "   VV10 NL energy:       0.01866876\n",
      "SCF Iter  2:  -5.77604858287652    -1.9478627   -1.92446E-01   1.64180E-02\n",
      "   VV10 NL energy:       0.01880748\n",
      "SCF Iter  3:  -5.81991363244095    -2.1472560   -4.38650E-02   4.09661E-04\n",
      "   VV10 NL energy:       0.01880430\n",
      "SCF Iter  4:  -5.81994198278403    -2.1423006   -2.83503E-05   2.03490E-06\n",
      "   VV10 NL energy:       0.01880430\n",
      "SCF Iter  5:  -5.81994198341546    -2.1423051   -6.31430E-10   2.69437E-07\n",
      "\n",
      "Final SCF energy: -5.81994198 hartree \n"
     ]
    },
    {
     "data": {
      "text/plain": [
       "(-5.819941983415457, Dict{Any,Any}(\"eigenvalues\" => PyObject <psi4.core.Vector object at 0x10ed26770>,\"Da\" => PyObject <psi4.core.Matrix object at 0x10ed26dd0>,\"Ca\" => PyObject <psi4.core.Matrix object at 0x10ed26590>))"
      ]
     },
     "execution_count": 4,
     "metadata": {},
     "output_type": "execute_result"
    }
   ],
   "source": [
    "function compute_vv10(D, Vpot)\n",
    "\n",
    "    nbf = D.shape[1]\n",
    "    Varr = zeros(nbf, nbf)\n",
    "    \n",
    "    total_e = 0.0\n",
    "    tD = 2np.array(D)\n",
    "    \n",
    "    points_func = Vpot.properties()[1]\n",
    "    superfunc = Vpot.functional()\n",
    "\n",
    "    xc_e = 0.0\n",
    "    vv10_e = 0.0\n",
    "    \n",
    "    # First loop over the outer set of blocks\n",
    "    for l_block in 1:Vpot.nblocks()\n",
    "        \n",
    "        # Obtain general grid information\n",
    "        l_grid = Vpot.get_block(l_block-1)\n",
    "        l_w = np.array(l_grid.w())\n",
    "        l_x = np.array(l_grid.x())\n",
    "        l_y = np.array(l_grid.y())\n",
    "        l_z = np.array(l_grid.z())\n",
    "        l_npoints = size(l_w,1)\n",
    "\n",
    "        points_func.compute_points(l_grid)\n",
    "\n",
    "        # Compute the functional itself\n",
    "        ret = superfunc.compute_functional(points_func.point_values(), -1)\n",
    "        \n",
    "        xc_e += dot(l_w, np.array(ret[\"V\"])[1:l_npoints])\n",
    "        v_ρ = np.array(ret[\"V_RHO_A\"])[1:l_npoints]\n",
    "        v_γ = np.array(ret[\"V_GAMMA_AA\"])[1:l_npoints]\n",
    "        \n",
    "        # Begin VV10 information\n",
    "        l_ρ = np.array(points_func.point_values()[\"RHO_A\"])[1:l_npoints]\n",
    "        l_γ = np.array(points_func.point_values()[\"GAMMA_AA\"])[1:l_npoints]\n",
    "        \n",
    "        l_W0, l_κ = compute_vv10_kernel(l_ρ, l_γ)\n",
    "        \n",
    "        phi_kernel = zero(l_ρ)\n",
    "        phi_U = zero(l_ρ)\n",
    "        phi_W = zero(l_ρ)\n",
    "        \n",
    "        # Loop over the inner set of blocks\n",
    "        for r_block in 1:Vpot.nblocks()\n",
    "            \n",
    "            # Repeat as for the left blocks\n",
    "            r_grid = Vpot.get_block(r_block-1)\n",
    "            r_w = np.array(r_grid.w())\n",
    "            r_x = np.array(r_grid.x())\n",
    "            r_y = np.array(r_grid.y())\n",
    "            r_z = np.array(r_grid.z())\n",
    "            r_npoints = size(r_w,1)\n",
    "\n",
    "            points_func.compute_points(r_grid)\n",
    "\n",
    "            r_ρ = np.array(points_func.point_values()[\"RHO_A\"])[1:r_npoints]\n",
    "            r_γ = np.array(points_func.point_values()[\"GAMMA_AA\"])[1:r_npoints]\n",
    "        \n",
    "            r_W0, r_κ = compute_vv10_kernel(r_ρ, r_γ)\n",
    "            \n",
    "            newaxis = [CartesianIndex()]\n",
    "\n",
    "            # Build the distance matrix\n",
    "            R2  = (l_x[:, newaxis] .- r_x').^2\n",
    "            R2 += (l_y[:, newaxis] .- r_y').^2\n",
    "            R2 += (l_z[:, newaxis] .- r_z').^2\n",
    "            \n",
    "            # Build g\n",
    "            g  = @. l_W0[:, newaxis] * R2 + l_κ[:, newaxis]\n",
    "            gp = @. r_W0' * R2 + r_κ'\n",
    "        \n",
    "            F_kernel = @. -1.5(r_w * r_ρ)' / (g * gp * (g + gp))\n",
    "            F_U = @. F_kernel * ((1.0 / g) + (1.0 / (g + gp)))\n",
    "            F_W = F_U .* R2\n",
    "\n",
    "            phi_kernel += sum(F_kernel, dims=2)\n",
    "            phi_U += -sum(F_U, dims=2)\n",
    "            phi_W += -sum(F_W, dims=2)\n",
    "        end\n",
    "            \n",
    "        # Compute those derivatives\n",
    "        κ_dn = l_κ ./ (6l_ρ)\n",
    "        w0_dγ = @. coef_C * l_γ / (l_W0 * l_ρ^4.0)\n",
    "        w0_dρ = @. 2.0 / l_W0 * (π/3.0 - coef_C * l_γ^2.0 / (l_ρ^5.0))\n",
    "\n",
    "        # Sum up the energy\n",
    "        vv10_e += sum(@. l_w * l_ρ * (β + 0.5phi_kernel))\n",
    "\n",
    "        # Perturb the derivative quantities\n",
    "        v_ρ += @. β + phi_kernel + l_ρ * (κ_dn * phi_U + w0_dρ * phi_W)\n",
    "        v_ρ *= 0.5\n",
    "        \n",
    "        v_γ += l_ρ .* w0_dγ .* phi_W\n",
    "\n",
    "        # Recompute to l_grid\n",
    "        lpos = np.array(l_grid.functions_local_to_global()) .+ 1\n",
    "        points_func.compute_points(l_grid)\n",
    "        nfunctions = size(lpos,1)\n",
    "        \n",
    "        # Integrate the LDA and GGA quantities\n",
    "        phi = np.array(points_func.basis_values()[\"PHI\"])[1:l_npoints, 1:nfunctions]\n",
    "        phi_x = np.array(points_func.basis_values()[\"PHI_X\"])[1:l_npoints, 1:nfunctions]\n",
    "        phi_y = np.array(points_func.basis_values()[\"PHI_Y\"])[1:l_npoints, 1:nfunctions]\n",
    "        phi_z = np.array(points_func.basis_values()[\"PHI_Z\"])[1:l_npoints, 1:nfunctions]\n",
    "        \n",
    "        # LDA\n",
    "        # Vtmp[ab] = ϕ[pb] Vρ[p] lw[p] ϕ[pa]\n",
    "        Vtmp = phi' * (v_ρ .* l_w .* phi)\n",
    "\n",
    "        # GGA\n",
    "        l_ρ_x = np.array(points_func.point_values()[\"RHO_AX\"])[1:l_npoints]\n",
    "        l_ρ_y = np.array(points_func.point_values()[\"RHO_AY\"])[1:l_npoints]\n",
    "        l_ρ_z = np.array(points_func.point_values()[\"RHO_AZ\"])[1:l_npoints]\n",
    "        \n",
    "        tmp_grid = 2l_w .* v_γ\n",
    "        # Vtmp[ab] += ϕ[pb] tmp_grid[p] ∇ₓρ[p] ∇ₓϕ[pa] ∀ x,y,z\n",
    "        Vtmp += phi' * (tmp_grid .* l_ρ_x .* phi_x)\n",
    "        Vtmp += phi' * (tmp_grid .* l_ρ_y .* phi_y)\n",
    "        Vtmp += phi' * (tmp_grid .* l_ρ_z .* phi_z)\n",
    "        \n",
    "        # Sum back to the correct place\n",
    "        Varr[lpos, lpos] += Vtmp + Vtmp'\n",
    "    end\n",
    "        \n",
    "    printfmt(\"   VV10 NL energy: {:16.8f}\\n\", vv10_e)\n",
    "        \n",
    "    xc_e += vv10_e\n",
    "    return xc_e, Varr\n",
    "end\n",
    "\n",
    "ks_solver(\"VV10\", mol, options, compute_vv10)       "
   ]
  },
  {
   "cell_type": "markdown",
   "metadata": {},
   "source": [
    "Refs:\n",
    " - Vydrov O. A.; Van Voorhis T., *J. Chem. Phys.*, **2010**, *133*, 244103"
   ]
  }
 ],
 "metadata": {
  "jupytext": {
   "encoding": "# -*- coding: utf-8 -*-",
   "formats": "jl:light,ipynb"
  },
  "kernelspec": {
   "display_name": "Julia 1.4.2",
   "language": "julia",
   "name": "julia-1.4"
  },
  "language_info": {
   "file_extension": ".jl",
   "mimetype": "application/julia",
   "name": "julia",
   "version": "1.4.2"
  }
 },
 "nbformat": 4,
 "nbformat_minor": 4
}
