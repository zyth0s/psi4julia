{
 "cells": [
  {
   "cell_type": "code",
   "execution_count": 1,
   "metadata": {},
   "outputs": [
    {
     "data": {
      "text/plain": [
       "\"2020-08-03\""
      ]
     },
     "execution_count": 1,
     "metadata": {},
     "output_type": "execute_result"
    }
   ],
   "source": [
    "\"\"\"\n",
    "Tutorial: A reference implementation of orbital optimized second-order Moller-Plesset perturbation theory.\n",
    "\"\"\"\n",
    "\n",
    "__authors__   = [\"D. Menendez\", \"Boyi Zhang\"]\n",
    "__credits__   = [\"D. Menendez\", \"Boyi Zhang\", \"Justin M. Turney\"]\n",
    "\n",
    "__copyright_amp__ = \"(c) 2014-2020, The Psi4Julia Developers\"\n",
    "__license__   = \"BSD-3-Clause\"\n",
    "__date__      = \"2020-08-03\""
   ]
  },
  {
   "cell_type": "markdown",
   "metadata": {},
   "source": [
    "# Orbital-Optimized Second-Order Moller Plesset Perturbation Theory (OMP2)"
   ]
  },
  {
   "cell_type": "markdown",
   "metadata": {},
   "source": [
    "In this tutorial, we will implement the orbital-optimized second-order Moller-Plesset method in the spin orbital notation. The groundwork for working in the spin orbital notation has been laid out in \"Introduction to the Spin Orbital Formulation of Post-HF methods\" [tutorial](../08_CEPA0_and_CCD/8a_Intro_to_spin_orbital_postHF.ipynb). It is highly recommended to work through that introduction before starting this tutorial. "
   ]
  },
  {
   "cell_type": "markdown",
   "metadata": {},
   "source": [
    "## I. Theoretical Overview"
   ]
  },
  {
   "cell_type": "markdown",
   "metadata": {},
   "source": [
    "### The general orbital optimization procedure\n",
    "\n",
    "In orbital optimization methods, the energy is minimized with respect to(w.r.t) an orbital rotation parameter $\\textbf{X}$ and can be expanded to second-order as:\n",
    "\n",
    "\\begin{equation}\n",
    "E(\\textbf{X}) = E(\\textbf{X}) + \\textbf{X}^\\dagger \\textbf{w} + \\frac{1}{2}\\textbf{X}^\\dagger\\textbf{A}\\textbf{X}\n",
    "\\end{equation}\n",
    "\n",
    "Here, $\\textbf{w}$ is the orbital gradient (derivative of E w.r.t. $\\textbf{X}^\\dagger$ evaluated at zero and $\\textbf{A}$ is the orbital Hessian matrix (second derivative of E w.r.t. $\\textbf{X}^\\dagger\\textbf{X}$ evaluated at zero).\n",
    "\n",
    "It can be shown that $\\textbf{X} = -\\textbf{A}^{-1}\\textbf{w}$, which gives us the equation used in the Newton-Raphson step of the orbital optimization. \n",
    "\n",
    "We define the unitary rotation matrix to be $\\textbf{U} = exp(\\textbf{X}-\\textbf{X}^\\dagger)$ and use this to rotate the orbitals (using the cofficient matrix). \n",
    "\n",
    "We then transform the 1 and 2-electron integrals using the new cofficient matrix and evaluate the energy. \n",
    "\n",
    "This process is repeated until the energy convergence satisfies a specified convergence parameter. \n",
    "\n",
    "A detailed algorithm for OMP2 is provided in the implementation section. \n"
   ]
  },
  {
   "cell_type": "markdown",
   "metadata": {},
   "source": [
    "### A note on the MP2 amplitude equation\n",
    "\n",
    "The MP2 amplitude equation can be explicitly written as \n",
    "\n",
    "\\begin{equation}\n",
    " t_{ab}^{ij} = (\\mathcal{E}_{ab}^{ij})^{-1} \\left(\n",
    "     \\bar{g}_{ab}^{ij} + P_{(a/b)}f'{}_{a}^{c} t_{cb}^{ij} -\n",
    "     P^{(i/j)}f'{}_k^it_{ab}^{kj} \\right)\n",
    "\\end{equation}\n",
    "\n",
    "where f' is the off-digonal Fock matrix.\n",
    "\n",
    "Indices p, q, r... are used to indicate arbitrary orbitals, indices a, b, c... are used to indicate virtual orbitals, and indices i, j, k... are used to indicate occupied orbitals.\n",
    "\n",
    "In conventional MP2, the use canonical orbitals result in a diagonal Fock matrix and the last two terms of the t amplitude equation goes to zero. In OMP2, however, the orbitals are no longer canonical due to orbital rotation, and we have to include these terms in the equation.  \n"
   ]
  },
  {
   "cell_type": "markdown",
   "metadata": {},
   "source": [
    "## II. Implementation"
   ]
  },
  {
   "cell_type": "markdown",
   "metadata": {},
   "source": [
    "As with previous tutorials, let's begin by importing Psi4, NumPy, TensorOperations, and LinearAlgebra and setting memory and output file options.\n",
    "Note that we will also be importing SciPy, which is another library that builds on NumPy and has additional capabilities that we will use."
   ]
  },
  {
   "cell_type": "code",
   "execution_count": 2,
   "metadata": {},
   "outputs": [
    {
     "name": "stdout",
     "output_type": "stream",
     "text": [
      "\n",
      "  Memory set to   1.863 GiB by Python driver.\n"
     ]
    }
   ],
   "source": [
    "# ==> Import Psi4, NumPy, & TensorOperations <==\n",
    "using PyCall: pyimport\n",
    "psi4 = pyimport(\"psi4\")\n",
    "np   = pyimport(\"numpy\") # used only to cast to Psi4 arrays\n",
    "using TensorOperations: @tensor\n",
    "import LinearAlgebra\n",
    "eye(n) = LinearAlgebra.I(n)\n",
    "using Formatting: printfmt\n",
    "\n",
    "\n",
    "# ==> Set Basic Psi4 Options <==\n",
    "\n",
    "# Memory specifications\n",
    "psi4.set_memory(Int(2e9))\n",
    "numpy_memory = 2\n",
    "\n",
    "# Output options\n",
    "psi4.core.set_output_file(\"output.dat\", false)"
   ]
  },
  {
   "cell_type": "markdown",
   "metadata": {},
   "source": [
    "We now define the molecule and set Psi4 options:"
   ]
  },
  {
   "cell_type": "code",
   "execution_count": 3,
   "metadata": {},
   "outputs": [],
   "source": [
    "mol = psi4.geometry(\"\"\"\n",
    "0 1\n",
    "O\n",
    "H 1 1.1\n",
    "H 1 1.1 2 104\n",
    "symmetry c1\n",
    "\"\"\")\n",
    "\n",
    "psi4.set_options(Dict(\"basis\"         => \"6-31g\",\n",
    "                      \"scf_type\"      => \"pk\",\n",
    "                      \"reference\"     => \"rhf\",\n",
    "                      \"mp2_type\"      => \"conv\",\n",
    "                      \"e_convergence\" => 1e-8,\n",
    "                      \"d_convergence\" => 1e-8))"
   ]
  },
  {
   "cell_type": "markdown",
   "metadata": {},
   "source": [
    "We use Psi4 to compute the RHF energy and wavefunction and store them in variables `scf_e` and `scf_wfn`. We also check the memory requirements for computation:"
   ]
  },
  {
   "cell_type": "code",
   "execution_count": 4,
   "metadata": {},
   "outputs": [
    {
     "name": "stdout",
     "output_type": "stream",
     "text": [
      "\n",
      "Size of the ERI tensor will be 0.00022848800000000003 GB.\n"
     ]
    }
   ],
   "source": [
    "# Get the SCF wavefunction & energies\n",
    "scf_e, scf_wfn = psi4.energy(\"scf\", return_wfn=true)\n",
    "\n",
    "# ==> Nuclear Repulsion Energy <==\n",
    "E_nuc = mol.nuclear_repulsion_energy()\n",
    "\n",
    "# Check memory requirements\n",
    "nmo = scf_wfn.nmo()\n",
    "I_size = nmo^4 * 8e-9\n",
    "println(\"\\nSize of the ERI tensor will be $I_size GB.\")\n",
    "memory_footprint = I_size * 1.5\n",
    "if I_size > numpy_memory\n",
    "    psi4.core.clean()\n",
    "    throw(OutOfMemoryError(\"Estimated memory utilization ($memory_footprint GB) exceeds \" * \n",
    "                           \"allotted memory limit of $numpy_memory GB.\"))\n",
    "end"
   ]
  },
  {
   "cell_type": "markdown",
   "metadata": {},
   "source": [
    "We need to set the maximum number of iterations for the OMP2 code as well as the energy convergence criteria:"
   ]
  },
  {
   "cell_type": "code",
   "execution_count": 5,
   "metadata": {},
   "outputs": [
    {
     "data": {
      "text/plain": [
       "1.0e-8"
      ]
     },
     "execution_count": 5,
     "metadata": {},
     "output_type": "execute_result"
    }
   ],
   "source": [
    "# ==> Set default program options <==\n",
    "# Maximum OMP2 iterations\n",
    "MAXITER = 40\n",
    "# Energy convergence criterion\n",
    "E_conv = 1.0e-8"
   ]
  },
  {
   "cell_type": "markdown",
   "metadata": {},
   "source": [
    "We first obtain orbital information from our wavefunction. We also create an instance of MintsHelper to help build our molecular integrals:"
   ]
  },
  {
   "cell_type": "code",
   "execution_count": 6,
   "metadata": {},
   "outputs": [
    {
     "data": {
      "text/plain": [
       "16"
      ]
     },
     "execution_count": 6,
     "metadata": {},
     "output_type": "execute_result"
    }
   ],
   "source": [
    "# Create instance of MintsHelper class\n",
    "mints = psi4.core.MintsHelper(scf_wfn.basisset())\n",
    "\n",
    "# Get basis and orbital information\n",
    "nbf = mints.nbf()          # Number of basis functions\n",
    "nalpha = scf_wfn.nalpha()  # Number of alpha electrons\n",
    "nbeta = scf_wfn.nbeta()    # Number of beta electrons\n",
    "nocc = nalpha + nbeta      # Total number of electrons\n",
    "nso = 2nbf                 # Total number of spin orbitals\n",
    "nvirt = nso - nocc         # Number of virtual orbitals"
   ]
  },
  {
   "cell_type": "markdown",
   "metadata": {},
   "source": [
    "We now build our 2-electron integral, a 4D tensor, in the spin orbital formulation. We also convert it into physicist's notation and antisymmetrize for easier manipulation of the tensor later on. "
   ]
  },
  {
   "cell_type": "code",
   "execution_count": 7,
   "metadata": {},
   "outputs": [],
   "source": [
    "\"\"\"\n",
    "Spin blocks 2-electron integrals\n",
    "Using np.kron, we project I and I tranpose into the space of the 2x2 ide\n",
    "The result is our 2-electron integral tensor in spin orbital notation\n",
    "\"\"\"\n",
    "function spin_block_tei(I)\n",
    "    identity = eye(2)\n",
    "    I = np.kron(identity, I)\n",
    "    np.kron(identity, permutedims(I, reverse(1:4)))\n",
    "end\n",
    " \n",
    "I = np.asarray(mints.ao_eri())\n",
    "I_spinblock = spin_block_tei(I)\n",
    " \n",
    "# Convert chemist's notation to physicist's notation, and antisymmetrize\n",
    "# (pq|rs) ---> ⟨pr|qs⟩\n",
    "# ⟨pr||qs⟩ = ⟨pr|qs⟩ - ⟨pr|sq⟩\n",
    "gao = permutedims(I_spinblock, (1, 3, 2, 4)) - permutedims(I_spinblock, (1, 3, 4, 2));"
   ]
  },
  {
   "cell_type": "markdown",
   "metadata": {},
   "source": [
    "We get the core Hamiltonian from the reference wavefunction and build it in the spin orbital formulation. The Julia function `kron` is used to project the core Hamiltonian into the space of a 2x2 identity matrix. Note that `np.kron` was used for spin-blocking the 2-electron integral. In the current case, `kron` is only called once because the core Hamltonian is a 2D matrix. "
   ]
  },
  {
   "cell_type": "code",
   "execution_count": 8,
   "metadata": {},
   "outputs": [],
   "source": [
    "# ==> core Hamiltoniam <==\n",
    "\n",
    "h = np.asarray(scf_wfn.H())\n",
    "\n",
    "# Using np.kron, we project h into the space of the 2x2 identity\n",
    "# The result is the core Hamiltonian in the spin orbital formulation\n",
    "hao = kron(eye(2), h);"
   ]
  },
  {
   "cell_type": "markdown",
   "metadata": {},
   "source": [
    "We get the orbital energies from alpha and beta electrons and append them together. We spin-block the coefficients obtained from the reference wavefunction and convert them into Julia arrays. There is a set corresponding to coefficients from alpha electrons and a set of coefficients from beta electrons. We then sort them according to the order of the orbital energies using `sortperm()`:"
   ]
  },
  {
   "cell_type": "code",
   "execution_count": 9,
   "metadata": {},
   "outputs": [],
   "source": [
    "# Get orbital energies, cast into Julia array, and extend eigenvalues\n",
    "eps_a = np.asarray(scf_wfn.epsilon_a())\n",
    "eps_b = np.asarray(scf_wfn.epsilon_b())\n",
    "eps = vcat(eps_a, eps_b)\n",
    "\n",
    "# Get coefficients, block, and sort\n",
    "Ca = np.asarray(scf_wfn.Ca())\n",
    "Cb = np.asarray(scf_wfn.Cb())\n",
    "C = [Ca zero(Ca); zero(Cb) Cb]; # direct sum\n",
    "\n",
    "# Sort the columns of C according to the order of orbital energies\n",
    "C = C[:, sortperm(eps)]; "
   ]
  },
  {
   "cell_type": "markdown",
   "metadata": {},
   "source": [
    "We now define two functions that will transform the core Hamiltonian and the 2-electron integral from the AO basis into the MO basis using the coefficients:\n",
    "\n",
    "\\begin{align}\n",
    "h_p^q &= \\sum_{\\mu \\nu} C_{\\mu p}^* h_{\\mu \\nu} C_{\\nu q} \\\\\n",
    "\\bar{g}_{pq}^{rs} &= \\sum_{\\mu \\nu \\rho \\sigma} \n",
    "                C_{\\mu p}^* C_{\\nu q}^* \\langle \\mu \\nu || \\rho \\sigma \\rangle C_{\\rho r}C_{\\sigma s}\n",
    "\\end{align}\n",
    "\n",
    "Note that we transform the core Hamiltonian twice because it has two dimensions. We use these functions to transform the `hao` and `gao` previously defined:"
   ]
  },
  {
   "cell_type": "code",
   "execution_count": 10,
   "metadata": {},
   "outputs": [],
   "source": [
    "# ==> AO to MO transformation functions <==\n",
    "\n",
    "\n",
    "\"\"\"\n",
    "Transform hao, which is the core Hamiltonian in the spin orbital basis,\n",
    "into the MO basis using MO coefficients\n",
    "\"\"\"\n",
    "function ao_to_mo(hao, C)\n",
    "    \n",
    "    @tensor begin\n",
    "       hmo[P,Q] := hao[p,Q] * C[p,P]\n",
    "       hmo[p,Q] := hmo[p,q] * C[q,Q]\n",
    "    end\n",
    "end\n",
    "\n",
    "\n",
    "\"\"\"\n",
    "Transform gao, which is the spin-blocked 4d array of physicist's notation,\n",
    "antisymmetric two-electron integrals, into the MO basis using MO coefficients\n",
    "\"\"\"\n",
    "function ao_to_mo_tei(gao, C)\n",
    "    \n",
    "   @tensor begin\n",
    "      gmo[P,Q,R,S] := gao[p,Q,R,S] * C[p,P]\n",
    "      gmo[p,Q,R,S] := gmo[p,q,R,S] * C[q,Q]\n",
    "      gmo[p,q,R,S] := gmo[p,q,r,S] * C[r,R]\n",
    "      gmo[p,q,r,S] := gmo[p,q,r,s] * C[s,S]\n",
    "   end\n",
    "end\n",
    "\n",
    "# Transform gao and hao into MO basis\n",
    "hmo = ao_to_mo(hao, C)\n",
    "gmo = ao_to_mo_tei(gao, C);"
   ]
  },
  {
   "cell_type": "markdown",
   "metadata": {},
   "source": [
    "Here we define slices corresponding to the number and position of occupied and virtual indices. We will use these later in the code to access occupied and virtual blocks of relevant arrays. For example, to get $\\bar{g}_{ab}^{ij}$, we call:\n",
    "~~~julia\n",
    "gmo[v, v, o, o]\n",
    "~~~"
   ]
  },
  {
   "cell_type": "code",
   "execution_count": 11,
   "metadata": {},
   "outputs": [],
   "source": [
    "# Make slices\n",
    "x = [CartesianIndex()]\n",
    "o = [p ≤ nocc for p in 1:nso]\n",
    "v = [p > nocc for p in 1:nso];"
   ]
  },
  {
   "cell_type": "markdown",
   "metadata": {},
   "source": [
    "**OMP2 iteration algorithm:**\n",
    "\n",
    "1. Build the fock matrix\n",
    "\n",
    "   \\begin{equation}\n",
    "   f_p^q = h_p^q +\\bar{g}_{pi}^{qi} \n",
    "   \\end{equation}   \n",
    "   \n",
    "2. Build the off-diagonal Fock matrix and the orbital energies, where off-diagonal Fock matrix(`fprime`) is just the Fock matrix with its diagonal elements set to zero, and the orbital energies (`eps`) are just the diagonal elements of the Fock matrix\n",
    "\n",
    "    \\begin{equation}\n",
    "    \\epsilon_p = f_p^p\n",
    "    \\end{equation}\n",
    "\n",
    "    \\begin{equation}\n",
    "    f'{}_p^q =(1 - \\delta_p^q)f_p^q\n",
    "    \\end{equation}\n",
    "\n",
    "3. Update the amplitudes (`t_amp`)\n",
    "\n",
    "    \\begin{equation}\n",
    "     t_{ab}^{ij} = (\\mathcal{E}_{ab}^{ij})^{-1} \\left(\n",
    "     \\bar{g}_{ab}^{ij} + P_{(a/b)}f'{}_{a}^{c} t_{cb}^{ij} -\n",
    "     P^{(i/j)}f'{}_k^it_{ab}^{kj} \\right)\n",
    "    \\end{equation}\n",
    "\n",
    "   Here, P is a permutation operator that permutes the indices indicated. For example, $P_{(a/b)}$ would give all    possible permutations of a and b. Thus, \n",
    "    \n",
    "    \\begin{equation}\n",
    "    P_{(a/b)}f'{}_{a}^{c} t_{cb}^{ij} = f'{}_{a}^{c} t_{cb}^{ij} - f'{}_{b}^{c} t_{ca}^{ij}\n",
    "    \\end{equation}   \n",
    "   \n",
    "   where the minus sign arises as a result of antisymmetric properties due to the interchange of the two indices\n",
    "   The amplitudes terms in the code are assigned as `t1`, `t2`, and `t3`, respectively.\n",
    "   \n",
    "   To take in account the permutation terms, we evaluate the term and then transpose the relevant indices. \n",
    "   For example, for the second term in the amplitude equation we first evaluate it as it:\n",
    "   ~~~julia\n",
    "   @tensor t2[a,b,i,j] := (fprime[v, v])[a,c] * t_amp[c,b,i,j]\n",
    "   ~~~\n",
    "   Then, to account for the permutation, we transpose the two dimensions corresponding to the permuted indices. Since    a and b are in the first two dimensions of `t2`, we switch 0 and 1: \n",
    "   ~~~julia\n",
    "   t2 = t2 - permutedims(t2, (2, 1, 3, 4))\n",
    "   ~~~\n",
    "4. Build the one-particle density matrix (`opdm`)\n",
    "\n",
    "    \\begin{equation}\n",
    "    \\gamma_q^p = \\tilde{\\gamma}_q^p + \\mathring{\\gamma}_q^p\n",
    "    \\end{equation}\n",
    "\n",
    "   The one-particle density matrix(opdm) is a sum of the reference opdm ($\\mathring{\\gamma}_q^p$) and a correlation opdm ($\\tilde{\\gamma}_q^p$).\n",
    "    \n",
    "    $\\mathring{\\gamma}_q^p$ is assigned as the variable `odm_ref` and defined as:\n",
    "     \\begin{align}\n",
    "     & \\, \\delta^i_j \\, \\text{for $p=i$, $q=j$}, \\\\\n",
    "     & 0 \\,  \\text{otherwise}  \n",
    "    \\end{align}\n",
    "\n",
    "    The virtual block of $\\tilde{\\gamma}_q^p$ (assigned as `odm_corr`) is defined as:\n",
    "    \\begin{equation}\n",
    "    \\tilde{\\gamma}_b^a  = \\frac{1}{2} t_{ij}^{ab*}t_{bc}^{ij}\n",
    "    \\end{equation}\n",
    "\n",
    "     The occupied block of $\\tilde{\\gamma}_q^p$ is defined as:\n",
    "    \\begin{equation}\n",
    "    \\tilde{\\gamma}_j^i  = -\\frac{1}{2} t_{jk}^{ab*}t_{ab}^{ik}\n",
    "    \\end{equation}\n",
    "\n",
    "    As seen before, we used our defined slices to pick out these specific blocks: \n",
    "    ~~~julia \n",
    "    @tensor (opdm_corr[v, v])[b,a] :=  0.5(permutedims(t_amp, reverse(1:4)))[i,j,a,c] * t_amp[b,c,i,j]\n",
    "    @tensor (opdm_corr[o, o])[j,i] := -0.5(permutedims(t_amp, reverse(1:4)))[j,k,a,b] * t_amp[a,b,i,k]\n",
    "    ~~~\n",
    "    \n",
    "5. Build the two-particle density matrix (`tpdm`)  \n",
    "\n",
    "    \\begin{equation}\n",
    "    \\Gamma_{rs}^{pq} = \\tilde{\\Gamma}_{rs}^{pq} + P_{(r/s)}^{(p/q)}\\tilde{\\gamma}_r^p\\mathring{\\gamma}_s^q \n",
    "    +P_{(r/s)}\\mathring{\\gamma}_r^p\\mathring{\\gamma}_s^q\n",
    "    \\end{equation}\n",
    "    \n",
    "     where as before, P is the permutation operator\n",
    " \n",
    " $\\tilde{\\Gamma}_{rs}^{pq}$ (`tdm_corr`) can be separated into two components: \n",
    " \n",
    " \\begin{align}\n",
    " \\tilde{\\Gamma}_{ij}^{ab} = & t_{ij}^{ab*}\\\\\n",
    " \\tilde{\\Gamma}_{ab}^{ij} = & t_{ab}^{ij}\n",
    " \\end{align}\n",
    " \n",
    "6. Compute the Newton-Raphson step \n",
    "\n",
    "   First, form a generalized-Fock matrix using the one and two particle density matrices. This will be used to form the MO gradient matrix needed for the rotation matrix:\n",
    "   \n",
    "   \\begin{equation}\n",
    "   (\\textbf{F})_p^q \\equiv h_p^r \\gamma_r^q + \\frac{1}{2} \\bar{g}_{pr}^{st}\\Gamma_{st}^{qr}\n",
    "   \\end{equation}\n",
    "   \n",
    "   We have seen in the theoretical overview that the X matrix while paramtetrizes the orbital rotations can be expressed in terms of the orbital gradient matrix and orbital Hessian matrix. It can be shown that the individual elements of X can be computed by:\n",
    "   \n",
    "   \\begin{equation}\n",
    "    x_a^i = \\frac{(\\textbf{F} - \\textbf{F}^\\dagger)_a^i}{\\epsilon_i - \\epsilon_a}\n",
    "    \\end{equation}\n",
    "    \n",
    "     Here we only consider rotations between the occupied and virtual orbitals, since rotations within each block are redudant since energy is invariant to rotations within those spaces. \n",
    "     \n",
    "     Rather than computing individual elements we can compute the whole virtual-occupied block:\n",
    "     \n",
    "    \\begin{equation}\n",
    "    \\textbf{X}_v^o = (\\textbf{F} - \\textbf{F}^\\dagger)_v^o (\\mathcal{E}_v^o)^{-1}\n",
    "    \\end{equation}\n",
    "    Translating this to code, this becomes:\n",
    "    ~~~julia\n",
    "    X[v, o] = ((F - F')[v, o]) ./ (-eps[v, x] .+ eps[x, o])\n",
    "    ~~~\n",
    "7. We can now build the Newton-Raphson orbital rotation matrix from $\\textbf{X}$:\n",
    "\n",
    "    \\begin{equation}\n",
    "    \\textbf{U} = exp(\\textbf{X} - \\textbf{X}^\\dagger)\n",
    "    \\end{equation}\n",
    "    \n",
    "8. Use the rotation matrix to rotate the MO coefficients\n",
    "   \\begin{equation}\n",
    "   \\textbf{C} \\leftarrow \\textbf{CU}\n",
    "   \\end{equation}\n",
    "   \n",
    "9. Transform the 1-electron (`hmo`) and 2-electron (`gmo`) integrals to the MO basis using the new coefficient matrix. We can use our previously defined transformation functions for this step.\n",
    "\n",
    "    \\begin{align}\n",
    "    h_p^q &= \\sum_{\\mu \\nu} C_{\\mu p}^* h_{\\mu \\nu} C_{\\nu q} \\\\\n",
    "    \\bar{g}_{pq}^{rs} &= \\sum_{\\mu \\nu \\rho \\sigma} \n",
    "    C_{\\mu p}^* C_{\\nu q}^* \\langle \\mu \\nu || \\rho \\sigma \\rangle C_{\\rho r}C_{\\sigma s}\n",
    "    \\end{align}\n",
    "10. Evaluate the energy (`E_OMP2`)\n",
    "    \\begin{equation}\n",
    "    E = h_p^q \\gamma_q^p + \\frac{1}{4} \\bar{g}_{pq}^{rs}\\Gamma_{rs}^{pq}\n",
    "    \\end{equation}\n",
    "\n",
    "11. If the energy is converged according to the convergence criterion defined above, quit. Otherwise, loop over the algorithm again. "
   ]
  },
  {
   "cell_type": "markdown",
   "metadata": {},
   "source": [
    "Before beginning the iterations, we initialize OMP2 energy and the t amplitudes $t_{ab}^{ij}$ (`t_amp`) to be zero. We also initialize the correlation and reference one-particle density matrix and the correlation two-particle density matrix. Finally we intialize `X`, which is the parameter used to optimize our orbitals in the Newton-Raphson step. \n"
   ]
  },
  {
   "cell_type": "code",
   "execution_count": 12,
   "metadata": {},
   "outputs": [
    {
     "name": "stdout",
     "output_type": "stream",
     "text": [
      "OMP2 iteration:   1 Energy:    -76.09603493 dE: -7.60960e+01\n",
      "OMP2 iteration:   2 Energy:    -76.09617336 dE: -1.38424e-04\n",
      "OMP2 iteration:   3 Energy:    -76.09618834 dE: -1.49844e-05\n",
      "OMP2 iteration:   4 Energy:    -76.09619159 dE: -3.24371e-06\n",
      "OMP2 iteration:   5 Energy:    -76.09619246 dE: -8.72489e-07\n",
      "OMP2 iteration:   6 Energy:    -76.09619281 dE: -3.48877e-07\n",
      "OMP2 iteration:   7 Energy:    -76.09619295 dE: -1.38242e-07\n",
      "OMP2 iteration:   8 Energy:    -76.09619301 dE: -6.80802e-08\n",
      "OMP2 iteration:   9 Energy:    -76.09619305 dE: -3.19299e-08\n",
      "OMP2 iteration:  10 Energy:    -76.09619306 dE: -1.65530e-08\n",
      "OMP2 iteration:  11 Energy:    -76.09619307 dE: -8.24744e-09\n"
     ]
    },
    {
     "data": {
      "text/plain": [
       "-76.09619307058347"
      ]
     },
     "execution_count": 12,
     "metadata": {},
     "output_type": "execute_result"
    }
   ],
   "source": [
    "# Intialize t amplitude and energy \n",
    "t_amp = zeros(nvirt, nvirt, nocc, nocc)\n",
    "E_OMP2_old = 0.0 \n",
    "\n",
    "# Initialize the correlation one particle density matrix\n",
    "opdm_corr = zeros(nso, nso)\n",
    "\n",
    "# Build the reference one particle density matrix\n",
    "opdm_ref = zeros(nso, nso)\n",
    "opdm_ref[o, o] = eye(nocc)\n",
    "\n",
    "# Initialize two particle density matrix\n",
    "tpdm_corr = zeros(nso, nso, nso, nso)\n",
    "\n",
    "# Initialize the rotation matrix parameter \n",
    "E_OMP2 = let hmo=hmo, gmo=gmo, tpdm_corr=tpdm_corr, opdm_corr=opdm_corr, opdm_ref=opdm_ref,\n",
    "   E_OMP2_old = E_OMP2_old, t_amp=t_amp, C=C\n",
    "\n",
    "   E_OMP2 = 0.0\n",
    "   X = zeros(nso, nso)\n",
    "\n",
    "   for iteration in 1:MAXITER\n",
    "\n",
    "       # Build the Fock matrix\n",
    "       @tensor f[p,q] := hmo[p,q] + (gmo[:, o, :, o])[p,i,q,i]\n",
    "\n",
    "       # Build off-diagonal Fock Matrix and orbital energies\n",
    "       fprime = copy(f)\n",
    "       fprime[LinearAlgebra.diagind(fprime)] .= 0\n",
    "       eps = LinearAlgebra.diag(f)\n",
    "\n",
    "       # Update t amplitudes\n",
    "       t1 = @view gmo[v, v, o, o]\n",
    "       @tensor t2[a,b,i,j] := (fprime[v, v])[a,c] * t_amp[c,b,i,j]\n",
    "       @tensor t3[a,b,i,j] := (fprime[o, o])[k,i] * t_amp[a,b,k,j]\n",
    "       t_amp = t1 .+ t2 .- permutedims(t2, (2, 1, 3, 4)) .-\n",
    "               t3 .+ permutedims(t3, (1, 2, 4, 3))\n",
    "       \n",
    "       # Divide by a 4D tensor of orbital energies\n",
    "       @. t_amp /= (- eps[v, x, x, x] - eps[x, v, x, x] +\n",
    "                      eps[x, x, o, x] + eps[x, x, x, o])\n",
    "      \n",
    "       # Build one particle density matrix\n",
    "       @tensor (opdm_corr[v, v])[b,a] :=  0.5(permutedims(t_amp, reverse(1:4)))[i,j,a,c] * t_amp[b,c,i,j]\n",
    "       @tensor (opdm_corr[o, o])[j,i] := -0.5(permutedims(t_amp, reverse(1:4)))[j,k,a,b] * t_amp[a,b,i,k]\n",
    "       opdm = opdm_corr + opdm_ref \n",
    "\n",
    "       # Build two particle density matrix\n",
    "       tpdm_corr[v, v, o, o] = t_amp\n",
    "       tpdm_corr[o, o, v, v] = permutedims(t_amp, reverse(1:4))\n",
    "       @tensor tpdm2[r,s,p,q] := opdm_corr[r,p] * opdm_ref[s,q]\n",
    "       @tensor tpdm3[r,s,p,q] := opdm_ref[r,p] * opdm_ref[s,q]\n",
    "       tpdm = tpdm_corr +\n",
    "           tpdm2 - permutedims(tpdm2, (2, 1, 3, 4)) -\n",
    "           permutedims(tpdm2, (1, 2, 4, 3)) + permutedims(tpdm2, (2, 1, 4, 3)) +\n",
    "           tpdm3 - permutedims(tpdm3, (2, 1, 3, 4))\n",
    "\n",
    "       # Newton-Raphson step\n",
    "       @tensor F[p,q] := hmo[p,r] * opdm[r,q] + 0.5gmo[p,r,s,t] * tpdm[s,t,q,r]\n",
    "       X[v, o] = ((F - F')[v, o]) ./ (- eps[v, x] .+ eps[x, o])\n",
    "\n",
    "       # Build Newton-Raphson orbital rotation matrix\n",
    "       U = exp(X - X')\n",
    "\n",
    "       # Rotate spin-orbital coefficients\n",
    "       C = C * U\n",
    "\n",
    "       # Transform one and two electron integrals using new C\n",
    "       hmo = ao_to_mo(hao, C)\n",
    "       gmo = ao_to_mo_tei(gao, C)\n",
    "\n",
    "       # Compute the energy\n",
    "       E_OMP2 = E_nuc + @tensor scalar(hmo[p,q] * opdm[q,p]) +\n",
    "                  1/4 * @tensor scalar(gmo[p,q,r,s] * tpdm[r,s,p,q])\n",
    "       printfmt(\"OMP2 iteration: {1:3d} Energy: {2:15.8f} dE: {3:2.5e}\\n\", iteration, E_OMP2, E_OMP2-E_OMP2_old)\n",
    "\n",
    "       abs(E_OMP2-E_OMP2_old) < E_conv && break\n",
    "\n",
    "       # Updating values\n",
    "       E_OMP2_old = E_OMP2\n",
    "   end\n",
    "   E_OMP2\n",
    "end"
   ]
  },
  {
   "cell_type": "markdown",
   "metadata": {},
   "source": [
    "We compare the final energy with Psi4's OMP2 energy:"
   ]
  },
  {
   "cell_type": "code",
   "execution_count": 13,
   "metadata": {},
   "outputs": [
    {
     "name": "stdout",
     "output_type": "stream",
     "text": [
      "\tOMP2 Energy.......................................................PASSED\n"
     ]
    },
    {
     "data": {
      "text/plain": [
       "true"
      ]
     },
     "execution_count": 13,
     "metadata": {},
     "output_type": "execute_result"
    }
   ],
   "source": [
    "psi4.compare_values(psi4.energy(\"omp2\"), E_OMP2, 6, \"OMP2 Energy\")"
   ]
  },
  {
   "cell_type": "markdown",
   "metadata": {},
   "source": [
    "## References\n",
    "\n",
    "1. Background paper:\n",
    "    >\"Quadratically convergent algorithm for orbital optimization in the orbital-optimized\n",
    "coupled-cluster doubles method and in orbital-optimized second-order Møller-Plesset\n",
    "perturbation theory\"[[Bozkaya:2011:135](http://aip.scitation.org/doi/10.1063/1.3631129)] U. Bozkaya, J. M. Turney, Y. Yamaguchi, H. F. Schaefer III, and C. D. Sherrill, *J. Chem. Phys.* **135**, 104103 (2011).\n",
    "\n",
    "2. Useful notes on orbital rotation: \n",
    "\t> A. V. Copan, \"Orbital Relaxation\" accessed with https://github.com/CCQC/chem-8950/tree/master/2017/.\n",
    "    \n",
    "3. Algorithms from: \n",
    "\t> A. V. Copan, \"OMP2\" accessed with https://github.com/CCQC/chem-8950/tree/master/2017/programming."
   ]
  }
 ],
 "metadata": {
  "jupytext": {
   "encoding": "# -*- coding: utf-8 -*-",
   "formats": "jl:light,ipynb"
  },
  "kernelspec": {
   "display_name": "Julia 1.4.2",
   "language": "julia",
   "name": "julia-1.4"
  },
  "language_info": {
   "file_extension": ".jl",
   "mimetype": "application/julia",
   "name": "julia",
   "version": "1.4.2"
  }
 },
 "nbformat": 4,
 "nbformat_minor": 4
}
